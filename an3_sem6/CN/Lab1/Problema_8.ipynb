{
 "cells": [
  {
   "cell_type": "markdown",
   "metadata": {},
   "source": [
    "**Problema 8** (Aproximare Pade rationala). Aproximarea Pade rationala este cea mai buna aproximare a unei functii printr-o functie rationala de ordin $(m, n)$\n",
    "dat. Se defineste ca fiind o aproximare rationala de grad $(m, n)$ dat care reproduce valorile functiei si derivatelor ei pana la ordinul $m + k$. Ea da adesea aproximari mai bune decaat seriile Taylor trunchiate si uneori lucreaza chiar si atunci cand seria Taylor nu converge! In loc sa utilizam polinoame de grad mare, putem utiliza caturi de polinoame de grad mic. Aceste aproximari se numesc aproximari rationale. Fie\n",
    "\n",
    "$$f(x) = \\frac{p_m(x)}{q_k(x)} = \\frac{\\sum_{i=0}^{m} a_i x^i}{\\sum_{j=0}^{k} b_j x^j} = R_{m,k}(x), $$\n",
    "\n",
    "unde $b_0 = 1$.\n",
    "\n",
    "Aici am normalizat prin $b_0 \\ne 0$ iar valorile lui $m$ si $k$ se presupun a fi modeste.\n",
    "\n",
    "Alegem cei $k$ coeficienti $b_j$ ¸si cei $m + 1$ coeficienti $a_i$ din $R_{m,k}$ astfel incat $R_{m,k}$ sa reproduca valorile lui $f$ si ale unui numar specificat de derivate ale ei in punctul fixat $x = 0$.\n",
    "\n",
    "Construim intai seria Maclaurin trunchiata $\\sum_{i=0}^{n} c_i x^i$, unde $ci = \\frac{f^{(i)}(0)}{i!}$ si $c_i = 0$ pentru $i < 0$. Apoi, egalam primele $m + k + 1$\n",
    "derivate ale lui $R_{m,k}$ in raport cu $x$ in $x = 0$ cu primii $m + k + 1$ coeficienti $c_i$. Se obtine sistemul:\n",
    "\n",
    "$\n",
    "\\begin{bmatrix}\n",
    "c_{m} & c_{m-1} & \\dotsb & c_{m-(k-2)} & c_{m-(k-1)} \\\\\n",
    "c_{m+1} & c_{m} & \\dotsb & c_{m-(k-3)} & c_{m-(k-2)} \\\\\n",
    "\\vdots & \\vdots & \\ddots & \\vdots & \\vdots \\\\\n",
    "c_{m+(k-2)} & c_{m+(k-3)} & \\dotsb & c_{m} & c_{m-1} \\\\\n",
    "c_{m+(k-1)} & c_{m+(k-2)} & \\dotsb & c_{m+1} & c_{m} \\\\\n",
    "\\end{bmatrix}\\begin{bmatrix} \n",
    "b_1 \\\\ b_2 \\\\ \\vdots \\\\ b_{k-1} \\\\ b_k \n",
    "\\end{bmatrix} = \\begin{bmatrix} \n",
    "-c_{m+1} \\\\ -c_{m+2} \\\\ \\vdots \\\\ -c_{m+(k-1)} \\\\ -c_{m+k} \n",
    "\\end{bmatrix}$\n",
    "\n",
    "\n",
    "Deoarece $b_0 = 1$, rezolvand acest sistem de dimensiune $k \\times k$ vom obtine\n",
    "coeficientii $b_1, b_2, \\dotsc , b_k$. Valorile lui $a_0, a_1, \\dotsc , a_m$ se obt¸in din\n",
    "$a_j = \\sum_{\\lambda=0}^{j} c_{j-\\lambda}b_{\\lambda} (j=0,\\dotsc,m)$\n",
    "\n",
    "\n",
    "De notat ca $a_j = 0$ pentru $j > m$ si $b_j = 0$ pentru $j > k$. De asemenea,\n",
    "daca $k = 0$, atunci $R_{m,0}$ este seria Maclaurin trunchiata a lui $f$. Mai mult,\n",
    "aproximarea Pade poate avea singularitati.\n"
   ]
  },
  {
   "cell_type": "markdown",
   "metadata": {},
   "source": [
    "(a) Implementati aproximarea Pade pentru $f$, $k$, $m$ date."
   ]
  },
  {
   "cell_type": "code",
   "execution_count": 168,
   "metadata": {},
   "outputs": [],
   "source": [
    "def pade(f,k,m):\n",
    "    x = var('x')\n",
    "    c = [0]*(m+k+1)\n",
    "    macl = taylor(f, x, 0, m+k)\n",
    "    for ci, i in macl.coefficients():        \n",
    "        c[i] = ci\n",
    "    #show(c)    \n",
    "    b = var(\"b\", n=k+1, latex_name=\"b\")        \n",
    "    \n",
    "    eqs = []\n",
    "    \n",
    "    for i in range(k):\n",
    "        expr = 0        \n",
    "        for j in range(k):\n",
    "            c_index = m+(i-j)\n",
    "            if c_index>0:                \n",
    "                expr += c[c_index] * b[j+1]\n",
    "        eqs.append(expr == -c[m+i+1])        \n",
    "            \n",
    "    #show(eqs)        \n",
    "    sol = solve(eqs, *b)[0][1:]\n",
    "    #show(sol)\n",
    "    b = [1] + list(map(lambda e:e.right(), sol))    \n",
    "             \n",
    "    qk = sum([b[i]*(x**i) for i in range(k+1)])\n",
    "    \n",
    "    def get_a(j):\n",
    "        nonlocal m,c,b        \n",
    "        a = 0\n",
    "        if j>m: \n",
    "            return a\n",
    "        for l in range(j+1):            \n",
    "            if j<l or l>k: continue            \n",
    "            a += c[j-l] * b[l]\n",
    "        return a\n",
    "    a = list(map(get_a, range(m+1)))\n",
    "    show(\"a = \",a,\", b = \", b)\n",
    "    pm = sum([a[i]*(x**i) for i in range(m+1)])\n",
    "            \n",
    "    #show(qk)\n",
    "    #show(pm)\n",
    "    return pm, qk, pm/qk"
   ]
  },
  {
   "cell_type": "markdown",
   "metadata": {},
   "source": [
    "(b) Determinati functiile rationale $R_{1,1}(x)$ si $R_{2,2}(x)$ pentru $f(x) = e^x$. Reprezentati grafic si comparati graficele lui $f(x) = e^x$, $R_{1,1}(x)$ si $R_{2,2}(x)$. Sunt satisfacatoare aceste aproximatii rationale ale lui $e^x$ pe $[−1, 1]$? Cum se comporta comparativ cu seriile Maclaurin trunchiate din problemele precedente?\n"
   ]
  },
  {
   "cell_type": "code",
   "execution_count": 184,
   "metadata": {},
   "outputs": [
    {
     "data": {
      "text/html": [
       "<html><script type=\"math/tex; mode=display\">\\newcommand{\\Bold}[1]{\\mathbf{#1}}\\verb|a|\\phantom{\\verb!x!}\\verb|=| \\left[1, \\frac{1}{2}\\right] \\verb|,|\\phantom{\\verb!x!}\\verb|b|\\phantom{\\verb!x!}\\verb|=| \\left[1, -\\frac{1}{2}\\right]</script></html>"
      ],
      "text/latex": [
       "\\begin{math}\n",
       "\\newcommand{\\Bold}[1]{\\mathbf{#1}}\\verb|a|\\phantom{\\verb!x!}\\verb|=| \\left[1, \\frac{1}{2}\\right] \\verb|,|\\phantom{\\verb!x!}\\verb|b|\\phantom{\\verb!x!}\\verb|=| \\left[1, -\\frac{1}{2}\\right]\n",
       "\\end{math}"
      ],
      "text/plain": [
       "'a = ' [1, 1/2] ', b = ' [1, -1/2]"
      ]
     },
     "metadata": {},
     "output_type": "display_data"
    },
    {
     "data": {
      "text/html": [
       "<html><script type=\"math/tex; mode=display\">\\newcommand{\\Bold}[1]{\\mathbf{#1}}\\verb|R1|\\phantom{\\verb!x!}\\verb|=| -\\frac{x + 2}{x - 2}</script></html>"
      ],
      "text/latex": [
       "\\begin{math}\n",
       "\\newcommand{\\Bold}[1]{\\mathbf{#1}}\\verb|R1|\\phantom{\\verb!x!}\\verb|=| -\\frac{x + 2}{x - 2}\n",
       "\\end{math}"
      ],
      "text/plain": [
       "'R1 = ' -(x + 2)/(x - 2)"
      ]
     },
     "metadata": {},
     "output_type": "display_data"
    },
    {
     "data": {
      "text/html": [
       "<html><script type=\"math/tex; mode=display\">\\newcommand{\\Bold}[1]{\\mathbf{#1}}\\verb|a|\\phantom{\\verb!x!}\\verb|=| \\left[1, \\frac{1}{2}, \\frac{1}{12}\\right] \\verb|,|\\phantom{\\verb!x!}\\verb|b|\\phantom{\\verb!x!}\\verb|=| \\left[1, -\\frac{1}{2}, \\frac{1}{12}\\right]</script></html>"
      ],
      "text/latex": [
       "\\begin{math}\n",
       "\\newcommand{\\Bold}[1]{\\mathbf{#1}}\\verb|a|\\phantom{\\verb!x!}\\verb|=| \\left[1, \\frac{1}{2}, \\frac{1}{12}\\right] \\verb|,|\\phantom{\\verb!x!}\\verb|b|\\phantom{\\verb!x!}\\verb|=| \\left[1, -\\frac{1}{2}, \\frac{1}{12}\\right]\n",
       "\\end{math}"
      ],
      "text/plain": [
       "'a = ' [1, 1/2, 1/12] ', b = ' [1, -1/2, 1/12]"
      ]
     },
     "metadata": {},
     "output_type": "display_data"
    },
    {
     "data": {
      "text/html": [
       "<html><script type=\"math/tex; mode=display\">\\newcommand{\\Bold}[1]{\\mathbf{#1}}\\verb|R2|\\phantom{\\verb!x!}\\verb|=| \\frac{x^{2} + 6 \\, x + 12}{x^{2} - 6 \\, x + 12}</script></html>"
      ],
      "text/latex": [
       "\\begin{math}\n",
       "\\newcommand{\\Bold}[1]{\\mathbf{#1}}\\verb|R2|\\phantom{\\verb!x!}\\verb|=| \\frac{x^{2} + 6 \\, x + 12}{x^{2} - 6 \\, x + 12}\n",
       "\\end{math}"
      ],
      "text/plain": [
       "'R2 = ' (x^2 + 6*x + 12)/(x^2 - 6*x + 12)"
      ]
     },
     "metadata": {},
     "output_type": "display_data"
    },
    {
     "data": {
      "text/html": [
       "<html><script type=\"math/tex; mode=display\">\\newcommand{\\Bold}[1]{\\mathbf{#1}}\\verb|a|\\phantom{\\verb!x!}\\verb|=| \\left[1, \\frac{1}{2}, \\frac{1}{10}, \\frac{1}{120}\\right] \\verb|,|\\phantom{\\verb!x!}\\verb|b|\\phantom{\\verb!x!}\\verb|=| \\left[1, -\\frac{1}{2}, \\frac{1}{10}, -\\frac{1}{120}\\right]</script></html>"
      ],
      "text/latex": [
       "\\begin{math}\n",
       "\\newcommand{\\Bold}[1]{\\mathbf{#1}}\\verb|a|\\phantom{\\verb!x!}\\verb|=| \\left[1, \\frac{1}{2}, \\frac{1}{10}, \\frac{1}{120}\\right] \\verb|,|\\phantom{\\verb!x!}\\verb|b|\\phantom{\\verb!x!}\\verb|=| \\left[1, -\\frac{1}{2}, \\frac{1}{10}, -\\frac{1}{120}\\right]\n",
       "\\end{math}"
      ],
      "text/plain": [
       "'a = ' [1, 1/2, 1/10, 1/120] ', b = ' [1, -1/2, 1/10, -1/120]"
      ]
     },
     "metadata": {},
     "output_type": "display_data"
    },
    {
     "data": {
      "text/html": [
       "<html><script type=\"math/tex; mode=display\">\\newcommand{\\Bold}[1]{\\mathbf{#1}}\\verb|R3|\\phantom{\\verb!x!}\\verb|=| -\\frac{x^{3} + 12 \\, x^{2} + 60 \\, x + 120}{x^{3} - 12 \\, x^{2} + 60 \\, x - 120}</script></html>"
      ],
      "text/latex": [
       "\\begin{math}\n",
       "\\newcommand{\\Bold}[1]{\\mathbf{#1}}\\verb|R3|\\phantom{\\verb!x!}\\verb|=| -\\frac{x^{3} + 12 \\, x^{2} + 60 \\, x + 120}{x^{3} - 12 \\, x^{2} + 60 \\, x - 120}\n",
       "\\end{math}"
      ],
      "text/plain": [
       "'R3 = ' -(x^3 + 12*x^2 + 60*x + 120)/(x^3 - 12*x^2 + 60*x - 120)"
      ]
     },
     "metadata": {},
     "output_type": "display_data"
    },
    {
     "data": {
      "image/png": "[encoded data removed]",
      "text/plain": [
       "Graphics object consisting of 4 graphics primitives"
      ]
     },
     "metadata": {},
     "output_type": "display_data"
    }
   ],
   "source": [
    "p1, q1, R1 = pade(e^x, 1, 1)\n",
    "show(\"R1 = \", R1)\n",
    "p2, q2, R2 = pade(e^x, 2, 2)\n",
    "show(\"R2 = \", R2)\n",
    "p3, q3, R3 = pade(e^x, 3, 3)\n",
    "show(\"R3 = \", R3)\n",
    "\n",
    "funcs = [e^x, R1, R2, R3]\n",
    "labels = [\"$e^x$\", \"$R_{1,1}$\", \"$R_{2,2}$\", \"$R_{3,3}$\" ]\n",
    "\n",
    "show(plot(funcs, (x, -5,5), ymin=-10, ymax=60, legend_label=labels, color=\"automatic\"))"
   ]
  },
  {
   "cell_type": "markdown",
   "metadata": {},
   "source": [
    "**Observatie** Aproximarea Pade ofera rezultate mult mai bune pe $[-1,1]$ comparativ cu seriile Maclaurin trunchiate."
   ]
  },
  {
   "cell_type": "markdown",
   "metadata": {},
   "source": [
    "(c) Repetati pentru aproximarile $R_{2,2}(x)$ ¸si $R_{3,1}(x)$ ale functiei $g(x) = \\ln(1 +x)$."
   ]
  },
  {
   "cell_type": "code",
   "execution_count": 188,
   "metadata": {},
   "outputs": [
    {
     "data": {
      "text/html": [
       "<html><script type=\"math/tex; mode=display\">\\newcommand{\\Bold}[1]{\\mathbf{#1}}\\verb|a|\\phantom{\\verb!x!}\\verb|=| \\left[0, 1, \\frac{1}{2}\\right] \\verb|,|\\phantom{\\verb!x!}\\verb|b|\\phantom{\\verb!x!}\\verb|=| \\left[1, 1, \\frac{1}{6}\\right]</script></html>"
      ],
      "text/latex": [
       "\\begin{math}\n",
       "\\newcommand{\\Bold}[1]{\\mathbf{#1}}\\verb|a|\\phantom{\\verb!x!}\\verb|=| \\left[0, 1, \\frac{1}{2}\\right] \\verb|,|\\phantom{\\verb!x!}\\verb|b|\\phantom{\\verb!x!}\\verb|=| \\left[1, 1, \\frac{1}{6}\\right]\n",
       "\\end{math}"
      ],
      "text/plain": [
       "'a = ' [0, 1, 1/2] ', b = ' [1, 1, 1/6]"
      ]
     },
     "metadata": {},
     "output_type": "display_data"
    },
    {
     "data": {
      "text/html": [
       "<html><script type=\"math/tex; mode=display\">\\newcommand{\\Bold}[1]{\\mathbf{#1}}\\verb|R22|\\phantom{\\verb!x!}\\verb|=| \\frac{3 \\, {\\left(x^{2} + 2 \\, x\\right)}}{x^{2} + 6 \\, x + 6}</script></html>"
      ],
      "text/latex": [
       "\\begin{math}\n",
       "\\newcommand{\\Bold}[1]{\\mathbf{#1}}\\verb|R22|\\phantom{\\verb!x!}\\verb|=| \\frac{3 \\, {\\left(x^{2} + 2 \\, x\\right)}}{x^{2} + 6 \\, x + 6}\n",
       "\\end{math}"
      ],
      "text/plain": [
       "'R22 = ' 3*(x^2 + 2*x)/(x^2 + 6*x + 6)"
      ]
     },
     "metadata": {},
     "output_type": "display_data"
    },
    {
     "data": {
      "text/html": [
       "<html><script type=\"math/tex; mode=display\">\\newcommand{\\Bold}[1]{\\mathbf{#1}}\\verb|a|\\phantom{\\verb!x!}\\verb|=| \\left[0, 1\\right] \\verb|,|\\phantom{\\verb!x!}\\verb|b|\\phantom{\\verb!x!}\\verb|=| \\left[1, \\frac{1}{2}, -\\frac{1}{12}, \\frac{1}{24}\\right]</script></html>"
      ],
      "text/latex": [
       "\\begin{math}\n",
       "\\newcommand{\\Bold}[1]{\\mathbf{#1}}\\verb|a|\\phantom{\\verb!x!}\\verb|=| \\left[0, 1\\right] \\verb|,|\\phantom{\\verb!x!}\\verb|b|\\phantom{\\verb!x!}\\verb|=| \\left[1, \\frac{1}{2}, -\\frac{1}{12}, \\frac{1}{24}\\right]\n",
       "\\end{math}"
      ],
      "text/plain": [
       "'a = ' [0, 1] ', b = ' [1, 1/2, -1/12, 1/24]"
      ]
     },
     "metadata": {},
     "output_type": "display_data"
    },
    {
     "data": {
      "text/html": [
       "<html><script type=\"math/tex; mode=display\">\\newcommand{\\Bold}[1]{\\mathbf{#1}}\\verb|R31|\\phantom{\\verb!x!}\\verb|=| \\frac{24 \\, x}{x^{3} - 2 \\, x^{2} + 12 \\, x + 24}</script></html>"
      ],
      "text/latex": [
       "\\begin{math}\n",
       "\\newcommand{\\Bold}[1]{\\mathbf{#1}}\\verb|R31|\\phantom{\\verb!x!}\\verb|=| \\frac{24 \\, x}{x^{3} - 2 \\, x^{2} + 12 \\, x + 24}\n",
       "\\end{math}"
      ],
      "text/plain": [
       "'R31 = ' 24*x/(x^3 - 2*x^2 + 12*x + 24)"
      ]
     },
     "metadata": {},
     "output_type": "display_data"
    },
    {
     "data": {
      "image/png": "[encoded data removed]",
      "text/plain": [
       "Graphics object consisting of 3 graphics primitives"
      ]
     },
     "metadata": {},
     "output_type": "display_data"
    }
   ],
   "source": [
    "p1, q1, R1 = pade(ln(1+x), 2, 2)\n",
    "show(\"R22 = \", R1)\n",
    "p2, q2, R2 = pade(ln(1+x), 3, 1)\n",
    "show(\"R31 = \", R2)\n",
    "\n",
    "funcs = [ln(1+x), R1, R2]\n",
    "labels = [\"$\\\\ln(1+x)$\", \"$R_{2,2}$\", \"$R_{3,1}$\"]\n",
    "\n",
    "show(plot(funcs, (x, -1,1), ymin=-5, ymax=1, legend_label=labels, color=\"automatic\"))"
   ]
  },
  {
   "cell_type": "markdown",
   "metadata": {},
   "source": [
    "**Observatie** Convergenta in jurul lui $0$ este mult mai rapida data de aproximarea cu polinoame Taylor."
   ]
  }
 ],
 "metadata": {
  "kernelspec": {
   "display_name": "SageMath 9.2",
   "language": "sage",
   "name": "sagemath"
  },
  "language_info": {
   "codemirror_mode": {
    "name": "ipython",
    "version": 3
   },
   "file_extension": ".py",
   "mimetype": "text/x-python",
   "name": "python",
   "nbconvert_exporter": "python",
   "pygments_lexer": "ipython3",
   "version": "3.7.7"
  }
 },
 "nbformat": 4,
 "nbformat_minor": 4
}
