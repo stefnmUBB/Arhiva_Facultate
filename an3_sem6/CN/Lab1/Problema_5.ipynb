{
 "cells": [
  {
   "cell_type": "markdown",
   "metadata": {},
   "source": [
    "**Problema 5**. Deduceti seria Taylor pentru $\\ln(1 + x)$ si aproximati $\\ln(2)$ folosind primii 8 termeni. \n",
    "Cati termeni sunt necesari pentru a obtine $\\ln(2)$ cu 5 zecimale corecte? La fel pentru $\\ln \\left( \\frac{1+x}{1−x} \\right)$."
   ]
  },
  {
   "cell_type": "code",
   "execution_count": 58,
   "metadata": {},
   "outputs": [
    {
     "data": {
      "text/html": [
       "<html><script type=\"math/tex; mode=display\">\\newcommand{\\Bold}[1]{\\mathbf{#1}}-\\frac{1}{8} \\, x^{8} + \\frac{1}{7} \\, x^{7} - \\frac{1}{6} \\, x^{6} + \\frac{1}{5} \\, x^{5} - \\frac{1}{4} \\, x^{4} + \\frac{1}{3} \\, x^{3} - \\frac{1}{2} \\, x^{2} + x</script></html>"
      ],
      "text/latex": [
       "\\begin{math}\n",
       "\\newcommand{\\Bold}[1]{\\mathbf{#1}}-\\frac{1}{8} \\, x^{8} + \\frac{1}{7} \\, x^{7} - \\frac{1}{6} \\, x^{6} + \\frac{1}{5} \\, x^{5} - \\frac{1}{4} \\, x^{4} + \\frac{1}{3} \\, x^{3} - \\frac{1}{2} \\, x^{2} + x\n",
       "\\end{math}"
      ],
      "text/plain": [
       "-1/8*x^8 + 1/7*x^7 - 1/6*x^6 + 1/5*x^5 - 1/4*x^4 + 1/3*x^3 - 1/2*x^2 + x"
      ]
     },
     "metadata": {},
     "output_type": "display_data"
    }
   ],
   "source": [
    "T8 = taylor(ln(1+x),x,0,8)\n",
    "show(T8)"
   ]
  },
  {
   "cell_type": "code",
   "execution_count": 26,
   "metadata": {},
   "outputs": [
    {
     "data": {
      "text/html": [
       "<html><script type=\"math/tex; mode=display\">\\newcommand{\\Bold}[1]{\\mathbf{#1}}\\verb|By|\\phantom{\\verb!x!}\\verb|Taylor:|\\phantom{\\verb!x!}\\verb|ln(2)|\\phantom{\\verb!x!}\\verb|≈| \\frac{533}{840} \\phantom{\\verb!x!}\\verb|=| 0.634523809523809</script></html>"
      ],
      "text/latex": [
       "\\begin{math}\n",
       "\\newcommand{\\Bold}[1]{\\mathbf{#1}}\\verb|By|\\phantom{\\verb!x!}\\verb|Taylor:|\\phantom{\\verb!x!}\\verb|ln(2)|\\phantom{\\verb!x!}\\verb|≈| \\frac{533}{840} \\phantom{\\verb!x!}\\verb|=| 0.634523809523809\n",
       "\\end{math}"
      ],
      "text/plain": [
       "'By Taylor: ln(2) ≈ ' 533/840 ' = ' 0.634523809523809"
      ]
     },
     "metadata": {},
     "output_type": "display_data"
    },
    {
     "data": {
      "text/html": [
       "<html><script type=\"math/tex; mode=display\">\\newcommand{\\Bold}[1]{\\mathbf{#1}}\\verb|By|\\phantom{\\verb!x!}\\verb|built-in|\\phantom{\\verb!x!}\\verb|log:|\\phantom{\\verb!x!}\\verb|ln(2)|\\phantom{\\verb!x!}\\verb|≈| 0.693147180559945</script></html>"
      ],
      "text/latex": [
       "\\begin{math}\n",
       "\\newcommand{\\Bold}[1]{\\mathbf{#1}}\\verb|By|\\phantom{\\verb!x!}\\verb|built-in|\\phantom{\\verb!x!}\\verb|log:|\\phantom{\\verb!x!}\\verb|ln(2)|\\phantom{\\verb!x!}\\verb|≈| 0.693147180559945\n",
       "\\end{math}"
      ],
      "text/plain": [
       "'By built-in log: ln(2) ≈ ' 0.693147180559945"
      ]
     },
     "metadata": {},
     "output_type": "display_data"
    }
   ],
   "source": [
    "ln2_approx = T8(1)\n",
    "show(\"By Taylor: ln(2) ≈ \", ln2_approx, \" = \", numerical_approx(ln2_approx))\n",
    "show(\"By built-in log: ln(2) ≈ \", numerical_approx(log(2)))"
   ]
  },
  {
   "cell_type": "code",
   "execution_count": 56,
   "metadata": {},
   "outputs": [
    {
     "name": "stdout",
     "output_type": "stream",
     "text": [
      "T10000 => 0.69309\n",
      "T20000 => 0.69312\n",
      "T30000 => 0.69313\n",
      "T40000 => 0.69313\n",
      "T50000 => 0.69313\n",
      "T60000 => 0.69313\n",
      "T69632 => 0.69314\n"
     ]
    }
   ],
   "source": [
    "true_5_decimals = floor(log(2)*(10**5))\n",
    "true_5_decimals\n",
    "\n",
    "ln2_approx_n = ln2_approx.n()\n",
    "appx_5_decimals = 0\n",
    "\n",
    "k=8\n",
    "while appx_5_decimals != true_5_decimals:\n",
    "    k+=1\n",
    "    ln2_approx_n += ((-1)**(k+1)) / k  \n",
    "    appx_5_decimals = floor(ln2_approx_n * (10**5))\n",
    "    if k%10000==0:        \n",
    "        print(f\"T{k} => 0.{appx_5_decimals}\") \n",
    "print(f\"T{k} => 0.{appx_5_decimals}\")\n"
   ]
  },
  {
   "cell_type": "markdown",
   "metadata": {},
   "source": [
    "Testam cativa termeni pentru $\\ln\\left(\\frac{1+x}{1-x}\\right)$"
   ]
  },
  {
   "cell_type": "code",
   "execution_count": 67,
   "metadata": {},
   "outputs": [
    {
     "data": {
      "text/html": [
       "<html><script type=\"math/tex; mode=display\">\\newcommand{\\Bold}[1]{\\mathbf{#1}}\\frac{2}{7} \\, x^{7} + \\frac{2}{5} \\, x^{5} + \\frac{2}{3} \\, x^{3} + 2 \\, x</script></html>"
      ],
      "text/latex": [
       "\\begin{math}\n",
       "\\newcommand{\\Bold}[1]{\\mathbf{#1}}\\frac{2}{7} \\, x^{7} + \\frac{2}{5} \\, x^{5} + \\frac{2}{3} \\, x^{3} + 2 \\, x\n",
       "\\end{math}"
      ],
      "text/plain": [
       "2/7*x^7 + 2/5*x^5 + 2/3*x^3 + 2*x"
      ]
     },
     "metadata": {},
     "output_type": "display_data"
    }
   ],
   "source": [
    "T8 = taylor(ln((1+x)/(1-x)),x,0,8)\n",
    "show(T8)"
   ]
  },
  {
   "cell_type": "code",
   "execution_count": 68,
   "metadata": {},
   "outputs": [
    {
     "data": {
      "text/html": [
       "<html><script type=\"math/tex; mode=display\">\\newcommand{\\Bold}[1]{\\mathbf{#1}}\\frac{2}{9} \\, x^{9} + \\frac{2}{7} \\, x^{7} + \\frac{2}{5} \\, x^{5} + \\frac{2}{3} \\, x^{3} + 2 \\, x</script></html>"
      ],
      "text/latex": [
       "\\begin{math}\n",
       "\\newcommand{\\Bold}[1]{\\mathbf{#1}}\\frac{2}{9} \\, x^{9} + \\frac{2}{7} \\, x^{7} + \\frac{2}{5} \\, x^{5} + \\frac{2}{3} \\, x^{3} + 2 \\, x\n",
       "\\end{math}"
      ],
      "text/plain": [
       "2/9*x^9 + 2/7*x^7 + 2/5*x^5 + 2/3*x^3 + 2*x"
      ]
     },
     "metadata": {},
     "output_type": "display_data"
    }
   ],
   "source": [
    "T10 = taylor(ln((1+x)/(1-x)),x,0,10)\n",
    "show(T10)"
   ]
  },
  {
   "cell_type": "code",
   "execution_count": 69,
   "metadata": {},
   "outputs": [
    {
     "data": {
      "text/html": [
       "<html><script type=\"math/tex; mode=display\">\\newcommand{\\Bold}[1]{\\mathbf{#1}}\\verb|T8(1/3)|\\phantom{\\verb!x!}\\verb|=| 0.693134757332288</script></html>"
      ],
      "text/latex": [
       "\\begin{math}\n",
       "\\newcommand{\\Bold}[1]{\\mathbf{#1}}\\verb|T8(1/3)|\\phantom{\\verb!x!}\\verb|=| 0.693134757332288\n",
       "\\end{math}"
      ],
      "text/plain": [
       "'T8(1/3) = ' 0.693134757332288"
      ]
     },
     "metadata": {},
     "output_type": "display_data"
    },
    {
     "data": {
      "text/html": [
       "<html><script type=\"math/tex; mode=display\">\\newcommand{\\Bold}[1]{\\mathbf{#1}}\\verb|T10(1/3)|\\phantom{\\verb!x!}\\verb|=| 0.693146047390827</script></html>"
      ],
      "text/latex": [
       "\\begin{math}\n",
       "\\newcommand{\\Bold}[1]{\\mathbf{#1}}\\verb|T10(1/3)|\\phantom{\\verb!x!}\\verb|=| 0.693146047390827\n",
       "\\end{math}"
      ],
      "text/plain": [
       "'T10(1/3) = ' 0.693146047390827"
      ]
     },
     "metadata": {},
     "output_type": "display_data"
    }
   ],
   "source": [
    "show(\"T8(1/3) = \", numerical_approx(T8(1/3)))\n",
    "show(\"T10(1/3) = \", numerical_approx(T10(1/3)))"
   ]
  },
  {
   "cell_type": "markdown",
   "metadata": {},
   "source": [
    "Primii 10 termeni sunt suficienti pentru a aproxima $\\ln(2) = \\ln\\left( \\frac{1+1/3}{1-1/3} \\right)$ (huge improvement from the previous attempt)"
   ]
  }
 ],
 "metadata": {
  "kernelspec": {
   "display_name": "SageMath 9.2",
   "language": "sage",
   "name": "sagemath"
  },
  "language_info": {
   "codemirror_mode": {
    "name": "ipython",
    "version": 3
   },
   "file_extension": ".py",
   "mimetype": "text/x-python",
   "name": "python",
   "nbconvert_exporter": "python",
   "pygments_lexer": "ipython3",
   "version": "3.7.7"
  }
 },
 "nbformat": 4,
 "nbformat_minor": 4
}
