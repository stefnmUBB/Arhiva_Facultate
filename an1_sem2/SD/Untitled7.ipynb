{
 "cells": [
  {
   "cell_type": "code",
   "execution_count": 2,
   "metadata": {},
   "outputs": [
    {
     "data": {
      "text/plain": [
       "(Tm*e^(k*t) + T0 - Tm)*e^(-k*t)"
      ]
     },
     "execution_count": 2,
     "metadata": {},
     "output_type": "execute_result"
    }
   ],
   "source": [
    "# 1 a\n",
    "reset()\n",
    "t, k = var('t, k')\n",
    "Tm = var('Tm')\n",
    "T0 = var('T0')\n",
    "\n",
    "T = function('T')(t)\n",
    "\n",
    "eqd = diff(T, t) == -k * (T(t) - Tm)\n",
    "eqd\n",
    "\n",
    "desolve(eqd, [T, t], [0, T0])"
   ]
  },
  {
   "cell_type": "code",
   "execution_count": null,
   "metadata": {},
   "outputs": [],
   "source": []
  },
  {
   "cell_type": "code",
   "execution_count": null,
   "metadata": {},
   "outputs": [],
   "source": []
  },
  {
   "cell_type": "code",
   "execution_count": 96,
   "metadata": {},
   "outputs": [
    {
     "data": {
      "text/html": [
       "<html><script type=\"math/tex; mode=display\">\\newcommand{\\Bold}[1]{\\mathbf{#1}}5 \\, {\\left(e^{k} + 7\\right)} e^{\\left(-k\\right)} = 10</script></html>"
      ],
      "text/latex": [
       "$$\\newcommand{\\Bold}[1]{\\mathbf{#1}}5 \\, {\\left(e^{k} + 7\\right)} e^{\\left(-k\\right)} = 10$$"
      ],
      "text/plain": [
       "5*(e^k + 7)*e^(-k) == 10"
      ]
     },
     "metadata": {},
     "output_type": "display_data"
    },
    {
     "data": {
      "text/plain": [
       "[k == log(7)]"
      ]
     },
     "execution_count": 96,
     "metadata": {},
     "output_type": "execute_result"
    }
   ],
   "source": [
    "# 1 b\n",
    "reset()\n",
    "t, k = var('t, k')\n",
    "Tm = var('Tm')\n",
    "T0 = var('T0')\n",
    "\n",
    "T = function('T')(t)\n",
    "\n",
    "eqd = diff(T, t) == -k * (T(t) - Tm)\n",
    "eqd\n",
    "\n",
    "sol(Tm, T0, k, t) = desolve(eqd, [T, t], [0, T0])\n",
    "\n",
    "eq = sol(5, 40, k, 1) == 10\n",
    "show(eq)\n",
    "eq = 5+35*e^(-k)==10\n",
    "eq\n",
    "solve(eq, k)\n",
    "\n",
    "#sols = solve(eq, k)\n",
    "#sols"
   ]
  },
  {
   "cell_type": "code",
   "execution_count": null,
   "metadata": {},
   "outputs": [],
   "source": []
  },
  {
   "cell_type": "code",
   "execution_count": null,
   "metadata": {},
   "outputs": [],
   "source": []
  },
  {
   "cell_type": "code",
   "execution_count": null,
   "metadata": {},
   "outputs": [],
   "source": []
  },
  {
   "cell_type": "code",
   "execution_count": null,
   "metadata": {},
   "outputs": [],
   "source": []
  },
  {
   "cell_type": "code",
   "execution_count": null,
   "metadata": {},
   "outputs": [],
   "source": []
  },
  {
   "cell_type": "code",
   "execution_count": null,
   "metadata": {},
   "outputs": [],
   "source": []
  },
  {
   "cell_type": "code",
   "execution_count": null,
   "metadata": {},
   "outputs": [],
   "source": []
  },
  {
   "cell_type": "code",
   "execution_count": 4,
   "metadata": {},
   "outputs": [
    {
     "data": {
      "text/html": [
       "<html><script type=\"math/tex; mode=display\">\\newcommand{\\Bold}[1]{\\mathbf{#1}}\\left[x\\left(t\\right) = \\frac{2}{7} \\, {\\left(2 \\, C_{1} + 3 \\, C_{2}\\right)} e^{\\left(7 \\, t\\right)} + \\frac{3}{7} \\, C_{1} - \\frac{6}{7} \\, C_{2}, y\\left(t\\right) = \\frac{1}{7} \\, {\\left(2 \\, C_{1} + 3 \\, C_{2}\\right)} e^{\\left(7 \\, t\\right)} - \\frac{2}{7} \\, C_{1} + \\frac{4}{7} \\, C_{2}\\right]</script></html>"
      ],
      "text/latex": [
       "$$\\newcommand{\\Bold}[1]{\\mathbf{#1}}\\left[x\\left(t\\right) = \\frac{2}{7} \\, {\\left(2 \\, C_{1} + 3 \\, C_{2}\\right)} e^{\\left(7 \\, t\\right)} + \\frac{3}{7} \\, C_{1} - \\frac{6}{7} \\, C_{2}, y\\left(t\\right) = \\frac{1}{7} \\, {\\left(2 \\, C_{1} + 3 \\, C_{2}\\right)} e^{\\left(7 \\, t\\right)} - \\frac{2}{7} \\, C_{1} + \\frac{4}{7} \\, C_{2}\\right]$$"
      ],
      "text/plain": [
       "[x(t) == 2/7*(2*C1 + 3*C2)*e^(7*t) + 3/7*C1 - 6/7*C2,\n",
       " y(t) == 1/7*(2*C1 + 3*C2)*e^(7*t) - 2/7*C1 + 4/7*C2]"
      ]
     },
     "metadata": {},
     "output_type": "display_data"
    }
   ],
   "source": [
    "# 2.a\n",
    "reset()\n",
    "t = var('t')\n",
    "x = function('x')(t)\n",
    "y = function('y')(t)\n",
    "deq1 = diff(x,t) == 4*x + 6*y\n",
    "deq2 = diff(y,t) == 2*x + 3*y\n",
    "syst = [deq1, deq2]\n",
    "\n",
    "C1, C2 = var('C1, C2')\n",
    "\n",
    "solutions = desolve_system(syst, [x,y], [0, C1, C2])\n",
    "\n",
    "show(solutions)"
   ]
  },
  {
   "cell_type": "code",
   "execution_count": 13,
   "metadata": {},
   "outputs": [
    {
     "data": {
      "text/html": [
       "<html><script type=\"math/tex; mode=display\">\\newcommand{\\Bold}[1]{\\mathbf{#1}}\\left[x\\left(t\\right) = \\frac{20}{7} \\, e^{\\left(7 \\, t\\right)} - \\frac{6}{7}, y\\left(t\\right) = \\frac{10}{7} \\, e^{\\left(7 \\, t\\right)} + \\frac{4}{7}\\right]</script></html>"
      ],
      "text/latex": [
       "$$\\newcommand{\\Bold}[1]{\\mathbf{#1}}\\left[x\\left(t\\right) = \\frac{20}{7} \\, e^{\\left(7 \\, t\\right)} - \\frac{6}{7}, y\\left(t\\right) = \\frac{10}{7} \\, e^{\\left(7 \\, t\\right)} + \\frac{4}{7}\\right]$$"
      ],
      "text/plain": [
       "[x(t) == 20/7*e^(7*t) - 6/7, y(t) == 10/7*e^(7*t) + 4/7]"
      ]
     },
     "metadata": {},
     "output_type": "display_data"
    },
    {
     "data": {
      "image/png": "[encoded data removed]",
      "text/plain": [
       "Graphics object consisting of 2 graphics primitives"
      ]
     },
     "metadata": {},
     "output_type": "display_data"
    }
   ],
   "source": [
    "# 2.b\n",
    "reset()\n",
    "t = var('t')\n",
    "x = function('x')(t)\n",
    "y = function('y')(t)\n",
    "deq1 = diff(x,t) == 4*x + 6*y\n",
    "deq2 = diff(y,t) == 2*x + 3*y\n",
    "syst = [deq1, deq2]\n",
    "\n",
    "C1, C2 = var('C1, C2')\n",
    "\n",
    "solutions = desolve_system(syst, [x,y], [0, 2, 2])\n",
    "\n",
    "sol_x(t)=solutions[0].rhs()\n",
    "sol_y(t)=solutions[1].rhs()\n",
    "\n",
    "g1 = plot(sol_x(t),t,-1,1, ymax=10, color='red')\n",
    "g2 = plot(sol_y(t),t,-1,1, ymax=10)\n",
    "\n",
    "show(solutions)\n",
    "show(g1+g2)"
   ]
  },
  {
   "cell_type": "code",
   "execution_count": 25,
   "metadata": {},
   "outputs": [
    {
     "data": {
      "text/html": [
       "<html><script type=\"math/tex; mode=display\">\\newcommand{\\Bold}[1]{\\mathbf{#1}}0</script></html>"
      ],
      "text/latex": [
       "$$\\newcommand{\\Bold}[1]{\\mathbf{#1}}0$$"
      ],
      "text/plain": [
       "0"
      ]
     },
     "metadata": {},
     "output_type": "display_data"
    },
    {
     "data": {
      "text/html": [
       " instabil"
      ],
      "text/plain": [
       "' instabil'"
      ]
     },
     "metadata": {},
     "output_type": "display_data"
    },
    {
     "data": {
      "text/html": [
       "<html><script type=\"math/tex; mode=display\">\\newcommand{\\Bold}[1]{\\mathbf{#1}}2</script></html>"
      ],
      "text/latex": [
       "$$\\newcommand{\\Bold}[1]{\\mathbf{#1}}2$$"
      ],
      "text/plain": [
       "2"
      ]
     },
     "metadata": {},
     "output_type": "display_data"
    },
    {
     "data": {
      "text/html": [
       " local asimptotic stabil"
      ],
      "text/plain": [
       "' local asimptotic stabil'"
      ]
     },
     "metadata": {},
     "output_type": "display_data"
    },
    {
     "data": {
      "text/html": [
       "<html><script type=\"math/tex; mode=display\">\\newcommand{\\Bold}[1]{\\mathbf{#1}}4</script></html>"
      ],
      "text/latex": [
       "$$\\newcommand{\\Bold}[1]{\\mathbf{#1}}4$$"
      ],
      "text/plain": [
       "4"
      ]
     },
     "metadata": {},
     "output_type": "display_data"
    },
    {
     "data": {
      "text/html": [
       " instabil"
      ],
      "text/plain": [
       "' instabil'"
      ]
     },
     "metadata": {},
     "output_type": "display_data"
    }
   ],
   "source": [
    "# 3 a\n",
    "\n",
    "reset()\n",
    "x = var('x')\n",
    "\n",
    "f = function('f')(x)\n",
    "\n",
    "f = x*(2-x)*(x-4)\n",
    "\n",
    "pts = [sol.rhs() for sol in solve(f(x)==0,x)]\n",
    "\n",
    "for px in pts:\n",
    "    show(px)    \n",
    "    d=diff(f)(px)    \n",
    "    if d>0:\n",
    "        show(\" local asimptotic stabil\")\n",
    "    else:\n",
    "        show(\" instabil\")\n",
    "    "
   ]
  },
  {
   "cell_type": "code",
   "execution_count": 91,
   "metadata": {},
   "outputs": [
    {
     "data": {
      "text/html": [
       "<html><script type=\"math/tex; mode=display\">\\newcommand{\\Bold}[1]{\\mathbf{#1}}\\frac{1}{4} \\, \\log\\left(x\\left(t\\right) - 2\\right) - \\frac{1}{8} \\, \\log\\left(x\\left(t\\right) - 4\\right) - \\frac{1}{8} \\, \\log\\left(x\\left(t\\right)\\right) = t + \\frac{1}{4} \\, \\log\\left(C - 2\\right) - \\frac{1}{8} \\, \\log\\left(C - 4\\right) - \\frac{1}{8} \\, \\log\\left(C\\right)</script></html>"
      ],
      "text/latex": [
       "$$\\newcommand{\\Bold}[1]{\\mathbf{#1}}\\frac{1}{4} \\, \\log\\left(x\\left(t\\right) - 2\\right) - \\frac{1}{8} \\, \\log\\left(x\\left(t\\right) - 4\\right) - \\frac{1}{8} \\, \\log\\left(x\\left(t\\right)\\right) = t + \\frac{1}{4} \\, \\log\\left(C - 2\\right) - \\frac{1}{8} \\, \\log\\left(C - 4\\right) - \\frac{1}{8} \\, \\log\\left(C\\right)$$"
      ],
      "text/plain": [
       "1/4*log(x(t) - 2) - 1/8*log(x(t) - 4) - 1/8*log(x(t)) == t + 1/4*log(C - 2) - 1/8*log(C - 4) - 1/8*log(C)"
      ]
     },
     "metadata": {},
     "output_type": "display_data"
    },
    {
     "data": {
      "text/html": [
       "<html><script type=\"math/tex; mode=display\">\\newcommand{\\Bold}[1]{\\mathbf{#1}}\\frac{{\\left(v - 2\\right)}^{2}}{{\\left(v - 4\\right)} v} = \\frac{{\\left(C - 2\\right)}^{2} e^{u}}{{\\left(C - 4\\right)} C}</script></html>"
      ],
      "text/latex": [
       "$$\\newcommand{\\Bold}[1]{\\mathbf{#1}}\\frac{{\\left(v - 2\\right)}^{2}}{{\\left(v - 4\\right)} v} = \\frac{{\\left(C - 2\\right)}^{2} e^{u}}{{\\left(C - 4\\right)} C}$$"
      ],
      "text/plain": [
       "(v - 2)^2/((v - 4)*v) == (C - 2)^2*e^u/((C - 4)*C)"
      ]
     },
     "metadata": {},
     "output_type": "display_data"
    },
    {
     "data": {
      "image/png": "[encoded data removed]",
      "text/plain": [
       "Graphics object consisting of 7 graphics primitives"
      ]
     },
     "execution_count": 91,
     "metadata": {},
     "output_type": "execute_result"
    }
   ],
   "source": [
    "# 3 b\n",
    "\n",
    "t = var('t')\n",
    "x = function('x')(t)\n",
    "\n",
    "deq = diff(x,t) == x(t)*(2-x(t))*(x(t)-4)\n",
    "\n",
    "C = var('C')\n",
    "\n",
    "sol(C,t) = desolve(deq, [x,t], [0, C])\n",
    "show(sol(C,t).log_simplify()) # implicita\n",
    "\n",
    "u=var('u')\n",
    "v=var('v')\n",
    "\n",
    "\n",
    "fr(C,u,v)=((v-2)^2)/((v-4)*v) == e^u * (C-2)^2/((C-4)*C)\n",
    "show(fr(C))\n",
    "g1=implicit_plot(fr(-1,u,v),[u,0,2],[v,-1,5], color=\"red\")\n",
    "g2=implicit_plot(fr(-1,u,v),[u,0,2],[v,-1,5], color=\"green\")\n",
    "g3=implicit_plot(fr(1,u,v),[u,0,2],[v,-1,5], color=\"blue\")\n",
    "g4=implicit_plot(fr(2,u,v),[u,0,2],[v,-1,5], color=\"orange\")\n",
    "g5=implicit_plot(fr(3,u,v),[u,0,2],[v,-1,5], color=\"lime\")\n",
    "g6=implicit_plot(fr(5,u,v),[u,0,2],[v,-1,5], color=\"gray\")\n",
    "g7=implicit_plot(fr(5,u,v),[u,0,2],[v,-1,5], color=\"magenta\")\n",
    "\n",
    "g1+g2+g3+g4+g5+g6+g7\n",
    "\n",
    "#implicit_plot(sol(-1,t), [t,-1,1], [x,-1,1] )"
   ]
  },
  {
   "cell_type": "code",
   "execution_count": null,
   "metadata": {},
   "outputs": [],
   "source": []
  },
  {
   "cell_type": "code",
   "execution_count": null,
   "metadata": {},
   "outputs": [],
   "source": []
  },
  {
   "cell_type": "code",
   "execution_count": null,
   "metadata": {},
   "outputs": [],
   "source": []
  },
  {
   "cell_type": "code",
   "execution_count": null,
   "metadata": {},
   "outputs": [],
   "source": []
  },
  {
   "cell_type": "code",
   "execution_count": null,
   "metadata": {},
   "outputs": [],
   "source": []
  },
  {
   "cell_type": "code",
   "execution_count": null,
   "metadata": {},
   "outputs": [],
   "source": []
  },
  {
   "cell_type": "code",
   "execution_count": null,
   "metadata": {},
   "outputs": [],
   "source": []
  },
  {
   "cell_type": "code",
   "execution_count": null,
   "metadata": {},
   "outputs": [],
   "source": []
  },
  {
   "cell_type": "code",
   "execution_count": null,
   "metadata": {},
   "outputs": [],
   "source": []
  },
  {
   "cell_type": "code",
   "execution_count": null,
   "metadata": {},
   "outputs": [],
   "source": []
  },
  {
   "cell_type": "code",
   "execution_count": null,
   "metadata": {},
   "outputs": [],
   "source": []
  },
  {
   "cell_type": "code",
   "execution_count": null,
   "metadata": {},
   "outputs": [],
   "source": []
  },
  {
   "cell_type": "code",
   "execution_count": null,
   "metadata": {},
   "outputs": [],
   "source": []
  },
  {
   "cell_type": "code",
   "execution_count": null,
   "metadata": {},
   "outputs": [],
   "source": []
  },
  {
   "cell_type": "code",
   "execution_count": null,
   "metadata": {},
   "outputs": [],
   "source": []
  },
  {
   "cell_type": "code",
   "execution_count": null,
   "metadata": {},
   "outputs": [],
   "source": []
  },
  {
   "cell_type": "code",
   "execution_count": null,
   "metadata": {},
   "outputs": [],
   "source": []
  },
  {
   "cell_type": "code",
   "execution_count": null,
   "metadata": {},
   "outputs": [],
   "source": []
  },
  {
   "cell_type": "code",
   "execution_count": null,
   "metadata": {},
   "outputs": [],
   "source": []
  },
  {
   "cell_type": "code",
   "execution_count": null,
   "metadata": {},
   "outputs": [],
   "source": []
  },
  {
   "cell_type": "code",
   "execution_count": null,
   "metadata": {},
   "outputs": [],
   "source": []
  },
  {
   "cell_type": "code",
   "execution_count": null,
   "metadata": {},
   "outputs": [],
   "source": []
  },
  {
   "cell_type": "code",
   "execution_count": null,
   "metadata": {},
   "outputs": [],
   "source": []
  },
  {
   "cell_type": "code",
   "execution_count": null,
   "metadata": {},
   "outputs": [],
   "source": []
  },
  {
   "cell_type": "code",
   "execution_count": null,
   "metadata": {},
   "outputs": [],
   "source": []
  },
  {
   "cell_type": "code",
   "execution_count": null,
   "metadata": {},
   "outputs": [],
   "source": []
  },
  {
   "cell_type": "code",
   "execution_count": null,
   "metadata": {},
   "outputs": [],
   "source": []
  },
  {
   "cell_type": "code",
   "execution_count": null,
   "metadata": {},
   "outputs": [],
   "source": []
  },
  {
   "cell_type": "code",
   "execution_count": null,
   "metadata": {},
   "outputs": [],
   "source": []
  },
  {
   "cell_type": "code",
   "execution_count": null,
   "metadata": {},
   "outputs": [],
   "source": []
  },
  {
   "cell_type": "code",
   "execution_count": null,
   "metadata": {},
   "outputs": [],
   "source": []
  },
  {
   "cell_type": "code",
   "execution_count": null,
   "metadata": {},
   "outputs": [],
   "source": []
  },
  {
   "cell_type": "code",
   "execution_count": null,
   "metadata": {},
   "outputs": [],
   "source": []
  },
  {
   "cell_type": "code",
   "execution_count": null,
   "metadata": {},
   "outputs": [],
   "source": []
  },
  {
   "cell_type": "code",
   "execution_count": null,
   "metadata": {},
   "outputs": [],
   "source": []
  },
  {
   "cell_type": "code",
   "execution_count": null,
   "metadata": {},
   "outputs": [],
   "source": []
  },
  {
   "cell_type": "code",
   "execution_count": null,
   "metadata": {},
   "outputs": [],
   "source": []
  },
  {
   "cell_type": "code",
   "execution_count": null,
   "metadata": {},
   "outputs": [],
   "source": []
  },
  {
   "cell_type": "code",
   "execution_count": null,
   "metadata": {},
   "outputs": [],
   "source": []
  },
  {
   "cell_type": "code",
   "execution_count": null,
   "metadata": {},
   "outputs": [],
   "source": []
  },
  {
   "cell_type": "code",
   "execution_count": null,
   "metadata": {},
   "outputs": [],
   "source": []
  },
  {
   "cell_type": "code",
   "execution_count": null,
   "metadata": {},
   "outputs": [],
   "source": []
  },
  {
   "cell_type": "code",
   "execution_count": null,
   "metadata": {},
   "outputs": [],
   "source": []
  },
  {
   "cell_type": "code",
   "execution_count": null,
   "metadata": {},
   "outputs": [],
   "source": []
  },
  {
   "cell_type": "code",
   "execution_count": null,
   "metadata": {},
   "outputs": [],
   "source": []
  },
  {
   "cell_type": "code",
   "execution_count": null,
   "metadata": {},
   "outputs": [],
   "source": []
  },
  {
   "cell_type": "code",
   "execution_count": null,
   "metadata": {},
   "outputs": [],
   "source": []
  },
  {
   "cell_type": "code",
   "execution_count": 95,
   "metadata": {},
   "outputs": [
    {
     "data": {
      "text/html": [
       "<html><script type=\"math/tex; mode=display\">\\newcommand{\\Bold}[1]{\\mathbf{#1}}\\left[\\left[x = \\left(-2 i\\right), y = \\left(\\frac{1}{2} i\\right)\\right], \\left[x = \\left(2 i\\right), y = \\left(-\\frac{1}{2} i\\right)\\right], \\left[x = 2, y = \\left(\\frac{1}{2}\\right)\\right], \\left[x = \\left(-2\\right), y = \\left(-\\frac{1}{2}\\right)\\right]\\right]</script></html>"
      ],
      "text/latex": [
       "$$\\newcommand{\\Bold}[1]{\\mathbf{#1}}\\left[\\left[x = \\left(-2 i\\right), y = \\left(\\frac{1}{2} i\\right)\\right], \\left[x = \\left(2 i\\right), y = \\left(-\\frac{1}{2} i\\right)\\right], \\left[x = 2, y = \\left(\\frac{1}{2}\\right)\\right], \\left[x = \\left(-2\\right), y = \\left(-\\frac{1}{2}\\right)\\right]\\right]$$"
      ],
      "text/plain": [
       "[[x == (-2*I), y == (1/2*I)], [x == (2*I), y == (-1/2*I)], [x == 2, y == (1/2)], [x == -2, y == (-1/2)]]"
      ]
     },
     "metadata": {},
     "output_type": "display_data"
    },
    {
     "data": {
      "text/html": [
       "<html><script type=\"math/tex; mode=display\">\\newcommand{\\Bold}[1]{\\mathbf{#1}}2 \\verb|,| \\frac{1}{2} \\phantom{\\verb!x!}\\verb|instabil|\\phantom{\\verb!x!}\\verb|de|\\phantom{\\verb!x!}\\verb|tip|\\phantom{\\verb!x!}\\verb|sa|</script></html>"
      ],
      "text/latex": [
       "$$\\newcommand{\\Bold}[1]{\\mathbf{#1}}2 \\verb|,| \\frac{1}{2} \\phantom{\\verb!x!}\\verb|instabil|\\phantom{\\verb!x!}\\verb|de|\\phantom{\\verb!x!}\\verb|tip|\\phantom{\\verb!x!}\\verb|sa|$$"
      ],
      "text/plain": [
       "2 ', ' 1/2 ' instabil de tip sa'"
      ]
     },
     "metadata": {},
     "output_type": "display_data"
    },
    {
     "data": {
      "text/html": [
       "<html><script type=\"math/tex; mode=display\">\\newcommand{\\Bold}[1]{\\mathbf{#1}}\\left[-\\frac{1}{4} \\, \\sqrt{1217} - \\frac{31}{4}, \\frac{1}{4} \\, \\sqrt{1217} - \\frac{31}{4}\\right]</script></html>"
      ],
      "text/latex": [
       "$$\\newcommand{\\Bold}[1]{\\mathbf{#1}}\\left[-\\frac{1}{4} \\, \\sqrt{1217} - \\frac{31}{4}, \\frac{1}{4} \\, \\sqrt{1217} - \\frac{31}{4}\\right]$$"
      ],
      "text/plain": [
       "[-1/4*sqrt(1217) - 31/4, 1/4*sqrt(1217) - 31/4]"
      ]
     },
     "metadata": {},
     "output_type": "display_data"
    },
    {
     "data": {
      "text/html": [
       "<html><script type=\"math/tex; mode=display\">\\newcommand{\\Bold}[1]{\\mathbf{#1}}-2 \\verb|,| -\\frac{1}{2} \\phantom{\\verb!x!}\\verb|instabil|\\phantom{\\verb!x!}\\verb|de|\\phantom{\\verb!x!}\\verb|tip|\\phantom{\\verb!x!}\\verb|sa|</script></html>"
      ],
      "text/latex": [
       "$$\\newcommand{\\Bold}[1]{\\mathbf{#1}}-2 \\verb|,| -\\frac{1}{2} \\phantom{\\verb!x!}\\verb|instabil|\\phantom{\\verb!x!}\\verb|de|\\phantom{\\verb!x!}\\verb|tip|\\phantom{\\verb!x!}\\verb|sa|$$"
      ],
      "text/plain": [
       "-2 ', ' -1/2 ' instabil de tip sa'"
      ]
     },
     "metadata": {},
     "output_type": "display_data"
    },
    {
     "data": {
      "text/html": [
       "<html><script type=\"math/tex; mode=display\">\\newcommand{\\Bold}[1]{\\mathbf{#1}}\\left[-\\frac{1}{4} \\, \\sqrt{1217} + \\frac{31}{4}, \\frac{1}{4} \\, \\sqrt{1217} + \\frac{31}{4}\\right]</script></html>"
      ],
      "text/latex": [
       "$$\\newcommand{\\Bold}[1]{\\mathbf{#1}}\\left[-\\frac{1}{4} \\, \\sqrt{1217} + \\frac{31}{4}, \\frac{1}{4} \\, \\sqrt{1217} + \\frac{31}{4}\\right]$$"
      ],
      "text/plain": [
       "[-1/4*sqrt(1217) + 31/4, 1/4*sqrt(1217) + 31/4]"
      ]
     },
     "metadata": {},
     "output_type": "display_data"
    },
    {
     "data": {
      "image/png": "[encoded data removed]",
      "text/plain": [
       "Graphics object consisting of 2 graphics primitives"
      ]
     },
     "metadata": {},
     "output_type": "display_data"
    }
   ],
   "source": [
    "# 4a\n",
    "\n",
    "reset()\n",
    "\n",
    "x,y,t = var('x,y,t')\n",
    "\n",
    "f1(x,y) = x*y-1\n",
    "f2(x,y) = x^2-16*y^2\n",
    "\n",
    "\n",
    "EquilP = solve([f1(x,y)==0, f2(x,y)==0],x,y)\n",
    "show(EquilP)\n",
    "\n",
    "J=jacobian((f1(x,y),f2(x,y)),(x,y))\n",
    "\n",
    "for sol in EquilP:\n",
    "    xs=sol[0].rhs()\n",
    "    ys=sol[1].rhs()\n",
    "    if not xs in RR:\n",
    "        continue\n",
    "    ev = J(x=xs, y=ys).eigenvalues()    \n",
    "    l1=ev[0]\n",
    "    l2=ev[1]\n",
    "    if l1 in RR:\n",
    "        if l1>0 and l2>0:\n",
    "            show(xs,\", \",ys,\" instabil de tip nod\")\n",
    "        elif l2>0:\n",
    "            show(xs,\", \",ys,\" instabil de tip sa\")\n",
    "        else:\n",
    "            show(xs,\", \",ys,\" stabil...\")\n",
    "    else:\n",
    "        show(xs,\", \",ys,\" local asimptotic stabil tip focus\")\n",
    "        \n",
    "    show(ev)\n",
    "    \n",
    "\n",
    "n=sqrt(f1(x,y)^2+f2(x,y)^2)\n",
    "g=plot_vector_field([f1(x,y)/n, f2(x,y)/n], [x,-5,5], [y,-5,5], color='red')\n",
    "\n",
    "P = desolve_system_rk4([f1(x,y), f2(x,y)], [x,y], ics=[0,1,-1], ivar=t, end_points=[-3,3])\n",
    "XY = [[j,k] for i,j,k in P]\n",
    "l1 = list_plot(XY, plotjoined=True, color='blue')\n",
    "\n",
    "pl=g+l1\n",
    "pl.show(xmin=-5, xmax=5, ymin=-5, ymax=5)\n",
    "\n"
   ]
  },
  {
   "cell_type": "code",
   "execution_count": null,
   "metadata": {},
   "outputs": [],
   "source": []
  },
  {
   "cell_type": "code",
   "execution_count": null,
   "metadata": {},
   "outputs": [],
   "source": []
  },
  {
   "cell_type": "code",
   "execution_count": null,
   "metadata": {},
   "outputs": [],
   "source": []
  },
  {
   "cell_type": "code",
   "execution_count": null,
   "metadata": {},
   "outputs": [],
   "source": []
  },
  {
   "cell_type": "code",
   "execution_count": null,
   "metadata": {},
   "outputs": [],
   "source": []
  },
  {
   "cell_type": "code",
   "execution_count": null,
   "metadata": {},
   "outputs": [],
   "source": []
  },
  {
   "cell_type": "code",
   "execution_count": null,
   "metadata": {},
   "outputs": [],
   "source": []
  },
  {
   "cell_type": "code",
   "execution_count": null,
   "metadata": {},
   "outputs": [],
   "source": []
  },
  {
   "cell_type": "code",
   "execution_count": null,
   "metadata": {},
   "outputs": [],
   "source": []
  },
  {
   "cell_type": "code",
   "execution_count": null,
   "metadata": {},
   "outputs": [],
   "source": []
  },
  {
   "cell_type": "code",
   "execution_count": null,
   "metadata": {},
   "outputs": [],
   "source": []
  },
  {
   "cell_type": "code",
   "execution_count": null,
   "metadata": {},
   "outputs": [],
   "source": []
  },
  {
   "cell_type": "code",
   "execution_count": null,
   "metadata": {},
   "outputs": [],
   "source": []
  },
  {
   "cell_type": "code",
   "execution_count": null,
   "metadata": {},
   "outputs": [],
   "source": []
  },
  {
   "cell_type": "code",
   "execution_count": null,
   "metadata": {},
   "outputs": [],
   "source": []
  },
  {
   "cell_type": "code",
   "execution_count": null,
   "metadata": {},
   "outputs": [],
   "source": []
  },
  {
   "cell_type": "code",
   "execution_count": null,
   "metadata": {},
   "outputs": [],
   "source": []
  },
  {
   "cell_type": "code",
   "execution_count": null,
   "metadata": {},
   "outputs": [],
   "source": []
  },
  {
   "cell_type": "code",
   "execution_count": null,
   "metadata": {},
   "outputs": [],
   "source": []
  },
  {
   "cell_type": "code",
   "execution_count": null,
   "metadata": {},
   "outputs": [],
   "source": []
  },
  {
   "cell_type": "code",
   "execution_count": null,
   "metadata": {},
   "outputs": [],
   "source": []
  },
  {
   "cell_type": "code",
   "execution_count": null,
   "metadata": {},
   "outputs": [],
   "source": []
  },
  {
   "cell_type": "code",
   "execution_count": null,
   "metadata": {},
   "outputs": [],
   "source": []
  },
  {
   "cell_type": "code",
   "execution_count": null,
   "metadata": {},
   "outputs": [],
   "source": []
  },
  {
   "cell_type": "code",
   "execution_count": null,
   "metadata": {},
   "outputs": [],
   "source": []
  },
  {
   "cell_type": "code",
   "execution_count": null,
   "metadata": {},
   "outputs": [],
   "source": []
  },
  {
   "cell_type": "code",
   "execution_count": null,
   "metadata": {},
   "outputs": [],
   "source": []
  },
  {
   "cell_type": "code",
   "execution_count": null,
   "metadata": {},
   "outputs": [],
   "source": []
  },
  {
   "cell_type": "code",
   "execution_count": null,
   "metadata": {},
   "outputs": [],
   "source": []
  },
  {
   "cell_type": "code",
   "execution_count": null,
   "metadata": {},
   "outputs": [],
   "source": []
  },
  {
   "cell_type": "code",
   "execution_count": null,
   "metadata": {},
   "outputs": [],
   "source": []
  },
  {
   "cell_type": "code",
   "execution_count": null,
   "metadata": {},
   "outputs": [],
   "source": []
  },
  {
   "cell_type": "code",
   "execution_count": null,
   "metadata": {},
   "outputs": [],
   "source": []
  },
  {
   "cell_type": "code",
   "execution_count": null,
   "metadata": {},
   "outputs": [],
   "source": []
  },
  {
   "cell_type": "code",
   "execution_count": null,
   "metadata": {},
   "outputs": [],
   "source": []
  },
  {
   "cell_type": "code",
   "execution_count": null,
   "metadata": {},
   "outputs": [],
   "source": []
  },
  {
   "cell_type": "code",
   "execution_count": null,
   "metadata": {},
   "outputs": [],
   "source": []
  },
  {
   "cell_type": "code",
   "execution_count": null,
   "metadata": {},
   "outputs": [],
   "source": []
  },
  {
   "cell_type": "code",
   "execution_count": null,
   "metadata": {},
   "outputs": [],
   "source": []
  },
  {
   "cell_type": "code",
   "execution_count": null,
   "metadata": {},
   "outputs": [],
   "source": []
  },
  {
   "cell_type": "code",
   "execution_count": null,
   "metadata": {},
   "outputs": [],
   "source": []
  },
  {
   "cell_type": "code",
   "execution_count": null,
   "metadata": {},
   "outputs": [],
   "source": []
  },
  {
   "cell_type": "code",
   "execution_count": null,
   "metadata": {},
   "outputs": [],
   "source": []
  },
  {
   "cell_type": "code",
   "execution_count": null,
   "metadata": {},
   "outputs": [],
   "source": []
  },
  {
   "cell_type": "code",
   "execution_count": null,
   "metadata": {},
   "outputs": [],
   "source": []
  },
  {
   "cell_type": "code",
   "execution_count": null,
   "metadata": {},
   "outputs": [],
   "source": []
  },
  {
   "cell_type": "code",
   "execution_count": null,
   "metadata": {},
   "outputs": [],
   "source": []
  },
  {
   "cell_type": "code",
   "execution_count": null,
   "metadata": {},
   "outputs": [],
   "source": []
  },
  {
   "cell_type": "code",
   "execution_count": null,
   "metadata": {},
   "outputs": [],
   "source": []
  },
  {
   "cell_type": "code",
   "execution_count": null,
   "metadata": {},
   "outputs": [],
   "source": []
  },
  {
   "cell_type": "code",
   "execution_count": null,
   "metadata": {},
   "outputs": [],
   "source": []
  }
 ],
 "metadata": {
  "kernelspec": {
   "display_name": "SageMath 9.3",
   "language": "sage",
   "name": "sagemath"
  },
  "language_info": {
   "codemirror_mode": {
    "name": "ipython",
    "version": 3
   },
   "file_extension": ".py",
   "mimetype": "text/x-python",
   "name": "python",
   "nbconvert_exporter": "python",
   "pygments_lexer": "ipython3",
   "version": "3.7.10"
  }
 },
 "nbformat": 4,
 "nbformat_minor": 4
}
