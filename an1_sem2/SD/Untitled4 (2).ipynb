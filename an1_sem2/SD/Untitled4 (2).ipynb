{
 "cells": [
  {
   "cell_type": "code",
   "execution_count": 3,
   "metadata": {},
   "outputs": [
    {
     "data": {
      "text/html": [
       "<html><script type=\"math/tex; mode=display\">\\newcommand{\\Bold}[1]{\\mathbf{#1}}K_{2} \\cos\\left(t w_{0}\\right) + K_{1} \\sin\\left(t w_{0}\\right)</script></html>"
      ],
      "text/latex": [
       "$$\\newcommand{\\Bold}[1]{\\mathbf{#1}}K_{2} \\cos\\left(t w_{0}\\right) + K_{1} \\sin\\left(t w_{0}\\right)$$"
      ],
      "text/plain": [
       "_K2*cos(t*w0) + _K1*sin(t*w0)"
      ]
     },
     "metadata": {},
     "output_type": "display_data"
    }
   ],
   "source": [
    "# 1 a\n",
    "\n",
    "reset()\n",
    "\n",
    "t = var('t')\n",
    "w0 = var('w0')\n",
    "x = function('x')(t)\n",
    "\n",
    "eq = diff(x,t,2) + w0*w0*x == 0\n",
    "\n",
    "assume(w0 > 0)\n",
    "sol = desolve(eq, [x,t])\n",
    "\n",
    "show(sol)\n"
   ]
  },
  {
   "cell_type": "code",
   "execution_count": 6,
   "metadata": {},
   "outputs": [
    {
     "data": {
      "text/plain": [
       "(w0, x0, v0) |--> x0*cos(t*w0) + v0*sin(t*w0)/w0"
      ]
     },
     "execution_count": 6,
     "metadata": {},
     "output_type": "execute_result"
    }
   ],
   "source": [
    "# 1 b\n",
    "x0 = var('x0')\n",
    "v0 = var('v0')\n",
    "sol(w0,x0,v0) = desolve(eq, [x,t], [0,x0,v0])\n",
    "sol"
   ]
  },
  {
   "cell_type": "code",
   "execution_count": 39,
   "metadata": {},
   "outputs": [
    {
     "data": {
      "text/html": [
       "<html><script type=\"math/tex; mode=display\">\\newcommand{\\Bold}[1]{\\mathbf{#1}}\\verb|w0|\\phantom{\\verb!x!}\\verb|=| 4.99745093024473 \\verb|s^-1|</script></html>"
      ],
      "text/latex": [
       "$$\\newcommand{\\Bold}[1]{\\mathbf{#1}}\\verb|w0|\\phantom{\\verb!x!}\\verb|=| 4.99745093024473 \\verb|s^-1|$$"
      ],
      "text/plain": [
       "'w0 = ' 4.99745093024473 's^-1'"
      ]
     },
     "metadata": {},
     "output_type": "display_data"
    },
    {
     "data": {
      "text/html": [
       "<html><script type=\"math/tex; mode=display\">\\newcommand{\\Bold}[1]{\\mathbf{#1}}\\verb|T0|\\phantom{\\verb!x!}\\verb|=| 1.25727803932072 \\verb|s|</script></html>"
      ],
      "text/latex": [
       "$$\\newcommand{\\Bold}[1]{\\mathbf{#1}}\\verb|T0|\\phantom{\\verb!x!}\\verb|=| 1.25727803932072 \\verb|s|$$"
      ],
      "text/plain": [
       "'T0 = ' 1.25727803932072 's'"
      ]
     },
     "metadata": {},
     "output_type": "display_data"
    },
    {
     "data": {
      "text/html": [
       "<html><script type=\"math/tex; mode=display\">\\newcommand{\\Bold}[1]{\\mathbf{#1}}\\verb|R|\\phantom{\\verb!x!}\\verb|=| 0.152973587155910</script></html>"
      ],
      "text/latex": [
       "$$\\newcommand{\\Bold}[1]{\\mathbf{#1}}\\verb|R|\\phantom{\\verb!x!}\\verb|=| 0.152973587155910$$"
      ],
      "text/plain": [
       "'R = ' 0.152973587155910"
      ]
     },
     "metadata": {},
     "output_type": "display_data"
    },
    {
     "data": {
      "text/html": [
       "<html><script type=\"math/tex; mode=display\">\\newcommand{\\Bold}[1]{\\mathbf{#1}}\\verb|d|\\phantom{\\verb!x!}\\verb|=| 0.000000000000000</script></html>"
      ],
      "text/latex": [
       "$$\\newcommand{\\Bold}[1]{\\mathbf{#1}}\\verb|d|\\phantom{\\verb!x!}\\verb|=| 0.000000000000000$$"
      ],
      "text/plain": [
       "'d = ' 0.000000000000000"
      ]
     },
     "metadata": {},
     "output_type": "display_data"
    },
    {
     "data": {
      "image/png": "[encoded data removed]",
      "text/plain": [
       "Graphics object consisting of 1 graphics primitive"
      ]
     },
     "execution_count": 39,
     "metadata": {},
     "output_type": "execute_result"
    }
   ],
   "source": [
    "# 1 c \n",
    "\n",
    "u0 = sqrt(9.8 / 0.3924)\n",
    "\n",
    "show(\"w0 = \",u0,\"s^-1\")\n",
    "show(\"T0 = \",numerical_approx(2*pi/u0),\"s\")\n",
    "\n",
    "fnc(t) = sol(u0, 15, 0)\n",
    "\n",
    "_x0 = 0.15\n",
    "_v0 = 0\n",
    "R = sqrt(_x0^2 + (_x0/u0)^2)\n",
    "d = atan(_v0/(_x0*u0))\n",
    "\n",
    "show(\"R = \", R)\n",
    "show(\"d = \", d)\n",
    "\n",
    "plot(fnc,t,0,5)"
   ]
  },
  {
   "cell_type": "code",
   "execution_count": 41,
   "metadata": {},
   "outputs": [
    {
     "data": {
      "text/html": [
       "<html><script type=\"math/tex; mode=display\">\\newcommand{\\Bold}[1]{\\mathbf{#1}}K_{2} e^{\\left(-\\frac{1}{2} \\, {\\left(\\mathit{lmb} + \\sqrt{\\mathit{lmb}^{2} - 4 \\, w_{0}^{2}}\\right)} t\\right)} + K_{1} e^{\\left(-\\frac{1}{2} \\, {\\left(\\mathit{lmb} - \\sqrt{\\mathit{lmb}^{2} - 4 \\, w_{0}^{2}}\\right)} t\\right)}</script></html>"
      ],
      "text/latex": [
       "$$\\newcommand{\\Bold}[1]{\\mathbf{#1}}K_{2} e^{\\left(-\\frac{1}{2} \\, {\\left(\\mathit{lmb} + \\sqrt{\\mathit{lmb}^{2} - 4 \\, w_{0}^{2}}\\right)} t\\right)} + K_{1} e^{\\left(-\\frac{1}{2} \\, {\\left(\\mathit{lmb} - \\sqrt{\\mathit{lmb}^{2} - 4 \\, w_{0}^{2}}\\right)} t\\right)}$$"
      ],
      "text/plain": [
       "_K2*e^(-1/2*(lmb + sqrt(lmb^2 - 4*w0^2))*t) + _K1*e^(-1/2*(lmb - sqrt(lmb^2 - 4*w0^2))*t)"
      ]
     },
     "metadata": {},
     "output_type": "display_data"
    }
   ],
   "source": [
    "# 2 a\n",
    "\n",
    "reset()\n",
    "\n",
    "t = var('t')\n",
    "w0 = var('w0')\n",
    "lmb = var('lmb')\n",
    "x = function('x')(t)\n",
    "\n",
    "eq = diff(x,t,2) + lmb*diff(x,t) + w0*w0*x == 0\n",
    "\n",
    "assume(w0 > 0)\n",
    "assume(lmb^2 > 4*w0^2)\n",
    "sol = desolve(eq, [x,t])\n",
    "\n",
    "show(sol)"
   ]
  },
  {
   "cell_type": "code",
   "execution_count": 57,
   "metadata": {},
   "outputs": [
    {
     "data": {
      "image/png": "[encoded data removed]",
      "text/plain": [
       "Graphics object consisting of 1 graphics primitive"
      ]
     },
     "execution_count": 57,
     "metadata": {},
     "output_type": "execute_result"
    }
   ],
   "source": [
    "# 2 b\n",
    "\n",
    "sol_p(lmb, w0) = desolve(eq, [x,t], [0, 1, 5])\n",
    "fnc = sol_p(25, 10)\n",
    "\n",
    "plot(fnc, t, 0, 1.5)"
   ]
  },
  {
   "cell_type": "code",
   "execution_count": null,
   "metadata": {},
   "outputs": [],
   "source": []
  },
  {
   "cell_type": "code",
   "execution_count": 21,
   "metadata": {},
   "outputs": [
    {
     "data": {
      "text/html": [
       "<html><script type=\"math/tex; mode=display\">\\newcommand{\\Bold}[1]{\\mathbf{#1}}{\\left(K_{2} t + K_{1}\\right)} e^{\\left(-t w_{0}\\right)}</script></html>"
      ],
      "text/latex": [
       "$$\\newcommand{\\Bold}[1]{\\mathbf{#1}}{\\left(K_{2} t + K_{1}\\right)} e^{\\left(-t w_{0}\\right)}$$"
      ],
      "text/plain": [
       "(_K2*t + _K1)*e^(-t*w0)"
      ]
     },
     "metadata": {},
     "output_type": "display_data"
    }
   ],
   "source": [
    "# 2 c\n",
    "reset()\n",
    "\n",
    "t = var('t')\n",
    "w0 = var('w0')\n",
    "x = function('x')(t)\n",
    "\n",
    "eq = diff(x,t,2) + 2*w0*diff(x,t) + w0*w0*x == 0\n",
    "\n",
    "assume(w0>0)\n",
    "sol = desolve(eq, [x,t])\n",
    "\n",
    "show(sol)"
   ]
  },
  {
   "cell_type": "code",
   "execution_count": null,
   "metadata": {},
   "outputs": [],
   "source": []
  },
  {
   "cell_type": "code",
   "execution_count": null,
   "metadata": {},
   "outputs": [],
   "source": []
  },
  {
   "cell_type": "code",
   "execution_count": null,
   "metadata": {},
   "outputs": [],
   "source": []
  },
  {
   "cell_type": "code",
   "execution_count": null,
   "metadata": {},
   "outputs": [],
   "source": []
  },
  {
   "cell_type": "code",
   "execution_count": null,
   "metadata": {},
   "outputs": [],
   "source": []
  },
  {
   "cell_type": "code",
   "execution_count": null,
   "metadata": {},
   "outputs": [],
   "source": []
  },
  {
   "cell_type": "code",
   "execution_count": null,
   "metadata": {},
   "outputs": [],
   "source": []
  },
  {
   "cell_type": "code",
   "execution_count": null,
   "metadata": {},
   "outputs": [],
   "source": []
  },
  {
   "cell_type": "code",
   "execution_count": 22,
   "metadata": {},
   "outputs": [
    {
     "data": {
      "image/png": "[encoded data removed]",
      "text/plain": [
       "Graphics object consisting of 1 graphics primitive"
      ]
     },
     "execution_count": 22,
     "metadata": {},
     "output_type": "execute_result"
    }
   ],
   "source": [
    "# 2 d\n",
    "\n",
    "sol_p(w0) = desolve(eq, [x,t], [0, 1, 5])\n",
    "fnc = sol_p(10)\n",
    "\n",
    "plot(fnc, t, 0, 1.5)"
   ]
  },
  {
   "cell_type": "code",
   "execution_count": null,
   "metadata": {},
   "outputs": [],
   "source": []
  },
  {
   "cell_type": "code",
   "execution_count": 58,
   "metadata": {},
   "outputs": [
    {
     "data": {
      "text/html": [
       "<html><script type=\"math/tex; mode=display\">\\newcommand{\\Bold}[1]{\\mathbf{#1}}{\\left(K_{2} \\cos\\left(\\frac{1}{2} \\, \\sqrt{-\\mathit{lmb}^{2} + 4 \\, w_{0}^{2}} t\\right) + K_{1} \\sin\\left(\\frac{1}{2} \\, \\sqrt{-\\mathit{lmb}^{2} + 4 \\, w_{0}^{2}} t\\right)\\right)} e^{\\left(-\\frac{1}{2} \\, \\mathit{lmb} t\\right)}</script></html>"
      ],
      "text/latex": [
       "$$\\newcommand{\\Bold}[1]{\\mathbf{#1}}{\\left(K_{2} \\cos\\left(\\frac{1}{2} \\, \\sqrt{-\\mathit{lmb}^{2} + 4 \\, w_{0}^{2}} t\\right) + K_{1} \\sin\\left(\\frac{1}{2} \\, \\sqrt{-\\mathit{lmb}^{2} + 4 \\, w_{0}^{2}} t\\right)\\right)} e^{\\left(-\\frac{1}{2} \\, \\mathit{lmb} t\\right)}$$"
      ],
      "text/plain": [
       "(_K2*cos(1/2*sqrt(-lmb^2 + 4*w0^2)*t) + _K1*sin(1/2*sqrt(-lmb^2 + 4*w0^2)*t))*e^(-1/2*lmb*t)"
      ]
     },
     "metadata": {},
     "output_type": "display_data"
    }
   ],
   "source": [
    "# 2 e\n",
    "reset()\n",
    "\n",
    "t = var('t')\n",
    "w0 = var('w0')\n",
    "lmb = var('lmb')\n",
    "x = function('x')(t)\n",
    "\n",
    "eq = diff(x,t,2) + lmb*diff(x,t) + w0*w0*x == 0\n",
    "\n",
    "assume(w0>0)\n",
    "assume(lmb>0)\n",
    "assume(lmb^2 < 4*w0^2)\n",
    "sol = desolve(eq, [x,t])\n",
    "\n",
    "show(sol)"
   ]
  },
  {
   "cell_type": "code",
   "execution_count": 59,
   "metadata": {},
   "outputs": [
    {
     "data": {
      "image/png": "[encoded data removed]",
      "text/plain": [
       "Graphics object consisting of 1 graphics primitive"
      ]
     },
     "execution_count": 59,
     "metadata": {},
     "output_type": "execute_result"
    }
   ],
   "source": [
    "# 2 f\n",
    "\n",
    "sol_p(lmb, w0) = desolve(eq, [x,t], [0, 1, 5])\n",
    "fnc = sol_p(5, 10)\n",
    "\n",
    "plot(fnc, t, 0, 1.5)"
   ]
  },
  {
   "cell_type": "code",
   "execution_count": 34,
   "metadata": {},
   "outputs": [
    {
     "data": {
      "text/html": [
       "<html><script type=\"math/tex; mode=display\">\\newcommand{\\Bold}[1]{\\mathbf{#1}}w_{0}^{2} x\\left(t\\right) + \\frac{\\partial^{2}}{(\\partial t)^{2}}x\\left(t\\right) = F_{0} \\cos\\left(t w\\right)</script></html>"
      ],
      "text/latex": [
       "$$\\newcommand{\\Bold}[1]{\\mathbf{#1}}w_{0}^{2} x\\left(t\\right) + \\frac{\\partial^{2}}{(\\partial t)^{2}}x\\left(t\\right) = F_{0} \\cos\\left(t w\\right)$$"
      ],
      "text/plain": [
       "w0^2*x(t) + diff(x(t), t, t) == F0*cos(t*w)"
      ]
     },
     "metadata": {},
     "output_type": "display_data"
    },
    {
     "data": {
      "text/html": [
       "<html><script type=\"math/tex; mode=display\">\\newcommand{\\Bold}[1]{\\mathbf{#1}}\\left( w_{0}, w, F_{0} \\right) \\ {\\mapsto} \\ K_{2} \\cos\\left(t w_{0}\\right) + K_{1} \\sin\\left(t w_{0}\\right) - \\frac{F_{0} \\cos\\left(t w\\right)}{w^{2} - w_{0}^{2}}</script></html>"
      ],
      "text/latex": [
       "$$\\newcommand{\\Bold}[1]{\\mathbf{#1}}\\left( w_{0}, w, F_{0} \\right) \\ {\\mapsto} \\ K_{2} \\cos\\left(t w_{0}\\right) + K_{1} \\sin\\left(t w_{0}\\right) - \\frac{F_{0} \\cos\\left(t w\\right)}{w^{2} - w_{0}^{2}}$$"
      ],
      "text/plain": [
       "(w0, w, F0) |--> _K2*cos(t*w0) + _K1*sin(t*w0) - F0*cos(t*w)/(w^2 - w0^2)"
      ]
     },
     "metadata": {},
     "output_type": "display_data"
    }
   ],
   "source": [
    "# 3 a\n",
    "reset()\n",
    "t = var('t')\n",
    "x = function('x')(t) \n",
    "w0 = var('w0')\n",
    "F0 = var('F0')\n",
    "w = var('w')\n",
    "\n",
    "eqd = diff(x,t,2) + w0*w0 *x == F0 * cos(w*t)\n",
    "show(eqd)\n",
    "assume(w0>0)\n",
    "assume(w>0)\n",
    "# assume(w0!=w)\n",
    "sol(w0,w,F0) = desolve(eqd, [x,t])\n",
    "show(sol)\n"
   ]
  },
  {
   "cell_type": "code",
   "execution_count": null,
   "metadata": {},
   "outputs": [],
   "source": []
  },
  {
   "cell_type": "code",
   "execution_count": null,
   "metadata": {},
   "outputs": [],
   "source": []
  },
  {
   "cell_type": "code",
   "execution_count": 35,
   "metadata": {},
   "outputs": [
    {
     "data": {
      "text/html": [
       "<html><script type=\"math/tex; mode=display\">\\newcommand{\\Bold}[1]{\\mathbf{#1}}\\left( w_{0}, w, F_{0} \\right) \\ {\\mapsto} \\ -\\frac{F_{0} \\cos\\left(t w\\right)}{w^{2} - w_{0}^{2}} + \\frac{F_{0} \\cos\\left(t w_{0}\\right)}{w^{2} - w_{0}^{2}}</script></html>"
      ],
      "text/latex": [
       "$$\\newcommand{\\Bold}[1]{\\mathbf{#1}}\\left( w_{0}, w, F_{0} \\right) \\ {\\mapsto} \\ -\\frac{F_{0} \\cos\\left(t w\\right)}{w^{2} - w_{0}^{2}} + \\frac{F_{0} \\cos\\left(t w_{0}\\right)}{w^{2} - w_{0}^{2}}$$"
      ],
      "text/plain": [
       "(w0, w, F0) |--> -F0*cos(t*w)/(w^2 - w0^2) + F0*cos(t*w0)/(w^2 - w0^2)"
      ]
     },
     "metadata": {},
     "output_type": "display_data"
    },
    {
     "data": {
      "text/html": [
       "<html><script type=\"math/tex; mode=display\">\\newcommand{\\Bold}[1]{\\mathbf{#1}}t \\ {\\mapsto}\\ -0.380952380952381 \\, \\cos\\left(5.50000000000000 \\, t\\right) + 0.380952380952381 \\, \\cos\\left(5 \\, t\\right)</script></html>"
      ],
      "text/latex": [
       "$$\\newcommand{\\Bold}[1]{\\mathbf{#1}}t \\ {\\mapsto}\\ -0.380952380952381 \\, \\cos\\left(5.50000000000000 \\, t\\right) + 0.380952380952381 \\, \\cos\\left(5 \\, t\\right)$$"
      ],
      "text/plain": [
       "t |--> -0.380952380952381*cos(5.50000000000000*t) + 0.380952380952381*cos(5*t)"
      ]
     },
     "metadata": {},
     "output_type": "display_data"
    },
    {
     "data": {
      "image/png": "[encoded data removed]",
      "text/plain": [
       "Graphics object consisting of 1 graphics primitive"
      ]
     },
     "execution_count": 35,
     "metadata": {},
     "output_type": "execute_result"
    }
   ],
   "source": [
    "# 3 b\n",
    "\n",
    "solp(w0,w,F0) = desolve(eqd, [x,t], [0,0,0])\n",
    "show(solp)\n",
    "\n",
    "fnc(t) = solp(5,5.5,2)\n",
    "show(fnc)\n",
    "plot(fnc, t, 0, 5)"
   ]
  },
  {
   "cell_type": "code",
   "execution_count": null,
   "metadata": {},
   "outputs": [],
   "source": []
  },
  {
   "cell_type": "code",
   "execution_count": null,
   "metadata": {},
   "outputs": [],
   "source": []
  },
  {
   "cell_type": "code",
   "execution_count": null,
   "metadata": {},
   "outputs": [],
   "source": []
  },
  {
   "cell_type": "code",
   "execution_count": null,
   "metadata": {},
   "outputs": [],
   "source": []
  },
  {
   "cell_type": "code",
   "execution_count": null,
   "metadata": {},
   "outputs": [],
   "source": []
  },
  {
   "cell_type": "code",
   "execution_count": 68,
   "metadata": {},
   "outputs": [
    {
     "data": {
      "text/html": [
       "<html><script type=\"math/tex; mode=display\">\\newcommand{\\Bold}[1]{\\mathbf{#1}}w_{0}^{2} x\\left(t\\right) + \\frac{\\partial^{2}}{(\\partial t)^{2}}x\\left(t\\right) = F_{0} \\cos\\left(t w_{0}\\right)</script></html>"
      ],
      "text/latex": [
       "$$\\newcommand{\\Bold}[1]{\\mathbf{#1}}w_{0}^{2} x\\left(t\\right) + \\frac{\\partial^{2}}{(\\partial t)^{2}}x\\left(t\\right) = F_{0} \\cos\\left(t w_{0}\\right)$$"
      ],
      "text/plain": [
       "w0^2*x(t) + diff(x(t), t, t) == F0*cos(t*w0)"
      ]
     },
     "metadata": {},
     "output_type": "display_data"
    },
    {
     "data": {
      "text/html": [
       "<html><script type=\"math/tex; mode=display\">\\newcommand{\\Bold}[1]{\\mathbf{#1}}\\left( w_{0}, F_{0} \\right) \\ {\\mapsto} \\ K_{2} \\cos\\left(t w_{0}\\right) + K_{1} \\sin\\left(t w_{0}\\right) + \\frac{F_{0} t w_{0} \\sin\\left(t w_{0}\\right) + F_{0} \\cos\\left(t w_{0}\\right)}{2 \\, w_{0}^{2}}</script></html>"
      ],
      "text/latex": [
       "$$\\newcommand{\\Bold}[1]{\\mathbf{#1}}\\left( w_{0}, F_{0} \\right) \\ {\\mapsto} \\ K_{2} \\cos\\left(t w_{0}\\right) + K_{1} \\sin\\left(t w_{0}\\right) + \\frac{F_{0} t w_{0} \\sin\\left(t w_{0}\\right) + F_{0} \\cos\\left(t w_{0}\\right)}{2 \\, w_{0}^{2}}$$"
      ],
      "text/plain": [
       "(w0, F0) |--> _K2*cos(t*w0) + _K1*sin(t*w0) + 1/2*(F0*t*w0*sin(t*w0) + F0*cos(t*w0))/w0^2"
      ]
     },
     "metadata": {},
     "output_type": "display_data"
    }
   ],
   "source": [
    "# 3 c\n",
    "\n",
    "reset()\n",
    "t = var('t')\n",
    "x = function('x')(t) \n",
    "w0 = var('w0')\n",
    "F0 = var('F0')\n",
    "\n",
    "eqd = diff(x,t,2) + w0*w0 *x == F0 * cos(w0*t)\n",
    "show(eqd)\n",
    "assume(w0>0)\n",
    "sol(w0,F0) = desolve(eqd, [x,t])\n",
    "show(sol)"
   ]
  },
  {
   "cell_type": "code",
   "execution_count": null,
   "metadata": {},
   "outputs": [],
   "source": []
  },
  {
   "cell_type": "code",
   "execution_count": null,
   "metadata": {},
   "outputs": [],
   "source": []
  },
  {
   "cell_type": "code",
   "execution_count": null,
   "metadata": {},
   "outputs": [],
   "source": []
  },
  {
   "cell_type": "code",
   "execution_count": null,
   "metadata": {},
   "outputs": [],
   "source": []
  },
  {
   "cell_type": "code",
   "execution_count": 69,
   "metadata": {},
   "outputs": [
    {
     "data": {
      "text/html": [
       "<html><script type=\"math/tex; mode=display\">\\newcommand{\\Bold}[1]{\\mathbf{#1}}\\left( w_{0}, F_{0} \\right) \\ {\\mapsto} \\ -\\frac{F_{0} \\cos\\left(t w_{0}\\right)}{2 \\, w_{0}^{2}} + \\frac{F_{0} t w_{0} \\sin\\left(t w_{0}\\right) + F_{0} \\cos\\left(t w_{0}\\right)}{2 \\, w_{0}^{2}}</script></html>"
      ],
      "text/latex": [
       "$$\\newcommand{\\Bold}[1]{\\mathbf{#1}}\\left( w_{0}, F_{0} \\right) \\ {\\mapsto} \\ -\\frac{F_{0} \\cos\\left(t w_{0}\\right)}{2 \\, w_{0}^{2}} + \\frac{F_{0} t w_{0} \\sin\\left(t w_{0}\\right) + F_{0} \\cos\\left(t w_{0}\\right)}{2 \\, w_{0}^{2}}$$"
      ],
      "text/plain": [
       "(w0, F0) |--> -1/2*F0*cos(t*w0)/w0^2 + 1/2*(F0*t*w0*sin(t*w0) + F0*cos(t*w0))/w0^2"
      ]
     },
     "metadata": {},
     "output_type": "display_data"
    },
    {
     "data": {
      "text/html": [
       "<html><script type=\"math/tex; mode=display\">\\newcommand{\\Bold}[1]{\\mathbf{#1}}\\frac{1}{5} \\, t \\sin\\left(5 \\, t\\right)</script></html>"
      ],
      "text/latex": [
       "$$\\newcommand{\\Bold}[1]{\\mathbf{#1}}\\frac{1}{5} \\, t \\sin\\left(5 \\, t\\right)$$"
      ],
      "text/plain": [
       "1/5*t*sin(5*t)"
      ]
     },
     "metadata": {},
     "output_type": "display_data"
    },
    {
     "data": {
      "image/png": "[encoded data removed]",
      "text/plain": [
       "Graphics object consisting of 1 graphics primitive"
      ]
     },
     "execution_count": 69,
     "metadata": {},
     "output_type": "execute_result"
    }
   ],
   "source": [
    "# 3 d\n",
    "\n",
    "sol(w0,F0) = desolve(eqd, [x,t], [0,0,0])\n",
    "show(sol)\n",
    "fnc = sol(5, 2)\n",
    "\n",
    "show(fnc)\n",
    "\n",
    "plot(fnc, t, 0, 5)\n"
   ]
  },
  {
   "cell_type": "code",
   "execution_count": null,
   "metadata": {},
   "outputs": [],
   "source": []
  },
  {
   "cell_type": "code",
   "execution_count": null,
   "metadata": {},
   "outputs": [],
   "source": []
  },
  {
   "cell_type": "code",
   "execution_count": null,
   "metadata": {},
   "outputs": [],
   "source": []
  },
  {
   "cell_type": "code",
   "execution_count": null,
   "metadata": {},
   "outputs": [],
   "source": []
  },
  {
   "cell_type": "code",
   "execution_count": null,
   "metadata": {},
   "outputs": [],
   "source": []
  },
  {
   "cell_type": "code",
   "execution_count": 70,
   "metadata": {},
   "outputs": [
    {
     "data": {
      "text/html": [
       "<html><script type=\"math/tex; mode=display\">\\newcommand{\\Bold}[1]{\\mathbf{#1}}w \\ {\\mapsto}\\ -\\frac{F_{0} \\cos\\left(t w\\right)}{w^{2} - w_{0}^{2}} + \\frac{F_{0} \\cos\\left(t w_{0}\\right)}{w^{2} - w_{0}^{2}}</script></html>"
      ],
      "text/latex": [
       "$$\\newcommand{\\Bold}[1]{\\mathbf{#1}}w \\ {\\mapsto}\\ -\\frac{F_{0} \\cos\\left(t w\\right)}{w^{2} - w_{0}^{2}} + \\frac{F_{0} \\cos\\left(t w_{0}\\right)}{w^{2} - w_{0}^{2}}$$"
      ],
      "text/plain": [
       "w |--> -F0*cos(t*w)/(w^2 - w0^2) + F0*cos(t*w0)/(w^2 - w0^2)"
      ]
     },
     "metadata": {},
     "output_type": "display_data"
    },
    {
     "data": {
      "text/html": [
       "<html><script type=\"math/tex; mode=display\">\\newcommand{\\Bold}[1]{\\mathbf{#1}}w \\ {\\mapsto}\\ \\frac{F_{0} t \\sin\\left(t w_{0}\\right)}{2 \\, w_{0}}</script></html>"
      ],
      "text/latex": [
       "$$\\newcommand{\\Bold}[1]{\\mathbf{#1}}w \\ {\\mapsto}\\ \\frac{F_{0} t \\sin\\left(t w_{0}\\right)}{2 \\, w_{0}}$$"
      ],
      "text/plain": [
       "w |--> 1/2*F0*t*sin(t*w0)/w0"
      ]
     },
     "metadata": {},
     "output_type": "display_data"
    }
   ],
   "source": [
    "# 3 e\n",
    "\n",
    "# 3 a\n",
    "reset()\n",
    "t = var('t')\n",
    "x = function('x')(t) \n",
    "w0 = var('w0')\n",
    "F0 = var('F0')\n",
    "w = var('w')\n",
    "\n",
    "eqd = diff(x,t,2) + w0*w0 *x == F0 * cos(w*t)\n",
    "assume(w0>0)\n",
    "assume(w>0)\n",
    "assume(F0>0)\n",
    "sol(w) = desolve(eqd, [x,t], [0,0,0])\n",
    "show(sol)\n",
    "\n",
    "show(limit(sol, w=w0))\n"
   ]
  },
  {
   "cell_type": "code",
   "execution_count": null,
   "metadata": {},
   "outputs": [],
   "source": []
  },
  {
   "cell_type": "code",
   "execution_count": null,
   "metadata": {},
   "outputs": [],
   "source": []
  },
  {
   "cell_type": "code",
   "execution_count": null,
   "metadata": {},
   "outputs": [],
   "source": []
  },
  {
   "cell_type": "code",
   "execution_count": null,
   "metadata": {},
   "outputs": [],
   "source": []
  },
  {
   "cell_type": "code",
   "execution_count": null,
   "metadata": {},
   "outputs": [],
   "source": []
  },
  {
   "cell_type": "code",
   "execution_count": null,
   "metadata": {},
   "outputs": [],
   "source": []
  },
  {
   "cell_type": "code",
   "execution_count": null,
   "metadata": {},
   "outputs": [],
   "source": []
  },
  {
   "cell_type": "code",
   "execution_count": null,
   "metadata": {},
   "outputs": [],
   "source": []
  },
  {
   "cell_type": "code",
   "execution_count": null,
   "metadata": {},
   "outputs": [],
   "source": []
  },
  {
   "cell_type": "code",
   "execution_count": null,
   "metadata": {},
   "outputs": [],
   "source": []
  },
  {
   "cell_type": "code",
   "execution_count": null,
   "metadata": {},
   "outputs": [],
   "source": []
  },
  {
   "cell_type": "code",
   "execution_count": null,
   "metadata": {},
   "outputs": [],
   "source": []
  },
  {
   "cell_type": "code",
   "execution_count": null,
   "metadata": {},
   "outputs": [],
   "source": []
  },
  {
   "cell_type": "code",
   "execution_count": null,
   "metadata": {},
   "outputs": [],
   "source": []
  },
  {
   "cell_type": "code",
   "execution_count": null,
   "metadata": {},
   "outputs": [],
   "source": []
  },
  {
   "cell_type": "code",
   "execution_count": null,
   "metadata": {},
   "outputs": [],
   "source": []
  },
  {
   "cell_type": "code",
   "execution_count": null,
   "metadata": {},
   "outputs": [],
   "source": []
  },
  {
   "cell_type": "code",
   "execution_count": null,
   "metadata": {},
   "outputs": [],
   "source": []
  },
  {
   "cell_type": "code",
   "execution_count": null,
   "metadata": {},
   "outputs": [],
   "source": []
  },
  {
   "cell_type": "code",
   "execution_count": null,
   "metadata": {},
   "outputs": [],
   "source": []
  },
  {
   "cell_type": "code",
   "execution_count": null,
   "metadata": {},
   "outputs": [],
   "source": []
  },
  {
   "cell_type": "code",
   "execution_count": null,
   "metadata": {},
   "outputs": [],
   "source": []
  },
  {
   "cell_type": "code",
   "execution_count": null,
   "metadata": {},
   "outputs": [],
   "source": []
  },
  {
   "cell_type": "code",
   "execution_count": null,
   "metadata": {},
   "outputs": [],
   "source": []
  },
  {
   "cell_type": "code",
   "execution_count": null,
   "metadata": {},
   "outputs": [],
   "source": []
  },
  {
   "cell_type": "code",
   "execution_count": null,
   "metadata": {},
   "outputs": [],
   "source": []
  },
  {
   "cell_type": "code",
   "execution_count": null,
   "metadata": {},
   "outputs": [],
   "source": []
  },
  {
   "cell_type": "code",
   "execution_count": null,
   "metadata": {},
   "outputs": [],
   "source": []
  },
  {
   "cell_type": "code",
   "execution_count": null,
   "metadata": {},
   "outputs": [],
   "source": []
  },
  {
   "cell_type": "code",
   "execution_count": null,
   "metadata": {},
   "outputs": [],
   "source": []
  },
  {
   "cell_type": "code",
   "execution_count": null,
   "metadata": {},
   "outputs": [],
   "source": []
  },
  {
   "cell_type": "code",
   "execution_count": null,
   "metadata": {},
   "outputs": [],
   "source": []
  },
  {
   "cell_type": "code",
   "execution_count": null,
   "metadata": {},
   "outputs": [],
   "source": []
  },
  {
   "cell_type": "code",
   "execution_count": null,
   "metadata": {},
   "outputs": [],
   "source": []
  },
  {
   "cell_type": "code",
   "execution_count": null,
   "metadata": {},
   "outputs": [],
   "source": []
  },
  {
   "cell_type": "code",
   "execution_count": null,
   "metadata": {},
   "outputs": [],
   "source": []
  },
  {
   "cell_type": "code",
   "execution_count": null,
   "metadata": {},
   "outputs": [],
   "source": []
  },
  {
   "cell_type": "code",
   "execution_count": null,
   "metadata": {},
   "outputs": [],
   "source": []
  },
  {
   "cell_type": "code",
   "execution_count": null,
   "metadata": {},
   "outputs": [],
   "source": []
  },
  {
   "cell_type": "code",
   "execution_count": null,
   "metadata": {},
   "outputs": [],
   "source": []
  },
  {
   "cell_type": "code",
   "execution_count": null,
   "metadata": {},
   "outputs": [],
   "source": []
  },
  {
   "cell_type": "code",
   "execution_count": null,
   "metadata": {},
   "outputs": [],
   "source": []
  },
  {
   "cell_type": "code",
   "execution_count": null,
   "metadata": {},
   "outputs": [],
   "source": []
  },
  {
   "cell_type": "code",
   "execution_count": null,
   "metadata": {},
   "outputs": [],
   "source": []
  },
  {
   "cell_type": "code",
   "execution_count": null,
   "metadata": {},
   "outputs": [],
   "source": []
  },
  {
   "cell_type": "code",
   "execution_count": null,
   "metadata": {},
   "outputs": [],
   "source": []
  },
  {
   "cell_type": "code",
   "execution_count": null,
   "metadata": {},
   "outputs": [],
   "source": []
  },
  {
   "cell_type": "code",
   "execution_count": null,
   "metadata": {},
   "outputs": [],
   "source": []
  },
  {
   "cell_type": "code",
   "execution_count": null,
   "metadata": {},
   "outputs": [],
   "source": []
  },
  {
   "cell_type": "code",
   "execution_count": null,
   "metadata": {},
   "outputs": [],
   "source": []
  },
  {
   "cell_type": "code",
   "execution_count": null,
   "metadata": {},
   "outputs": [],
   "source": []
  },
  {
   "cell_type": "code",
   "execution_count": null,
   "metadata": {},
   "outputs": [],
   "source": []
  },
  {
   "cell_type": "code",
   "execution_count": null,
   "metadata": {},
   "outputs": [],
   "source": []
  },
  {
   "cell_type": "code",
   "execution_count": null,
   "metadata": {},
   "outputs": [],
   "source": []
  },
  {
   "cell_type": "code",
   "execution_count": null,
   "metadata": {},
   "outputs": [],
   "source": []
  },
  {
   "cell_type": "code",
   "execution_count": null,
   "metadata": {},
   "outputs": [],
   "source": []
  },
  {
   "cell_type": "code",
   "execution_count": null,
   "metadata": {},
   "outputs": [],
   "source": []
  },
  {
   "cell_type": "code",
   "execution_count": null,
   "metadata": {},
   "outputs": [],
   "source": []
  },
  {
   "cell_type": "code",
   "execution_count": null,
   "metadata": {},
   "outputs": [],
   "source": []
  },
  {
   "cell_type": "code",
   "execution_count": null,
   "metadata": {},
   "outputs": [],
   "source": []
  },
  {
   "cell_type": "code",
   "execution_count": null,
   "metadata": {},
   "outputs": [],
   "source": []
  },
  {
   "cell_type": "code",
   "execution_count": null,
   "metadata": {},
   "outputs": [],
   "source": []
  },
  {
   "cell_type": "code",
   "execution_count": null,
   "metadata": {},
   "outputs": [],
   "source": []
  },
  {
   "cell_type": "code",
   "execution_count": null,
   "metadata": {},
   "outputs": [],
   "source": []
  },
  {
   "cell_type": "code",
   "execution_count": null,
   "metadata": {},
   "outputs": [],
   "source": []
  },
  {
   "cell_type": "code",
   "execution_count": null,
   "metadata": {},
   "outputs": [],
   "source": []
  },
  {
   "cell_type": "code",
   "execution_count": null,
   "metadata": {},
   "outputs": [],
   "source": []
  },
  {
   "cell_type": "code",
   "execution_count": null,
   "metadata": {},
   "outputs": [],
   "source": []
  },
  {
   "cell_type": "code",
   "execution_count": null,
   "metadata": {},
   "outputs": [],
   "source": []
  },
  {
   "cell_type": "code",
   "execution_count": null,
   "metadata": {},
   "outputs": [],
   "source": []
  },
  {
   "cell_type": "code",
   "execution_count": null,
   "metadata": {},
   "outputs": [],
   "source": []
  },
  {
   "cell_type": "code",
   "execution_count": null,
   "metadata": {},
   "outputs": [],
   "source": []
  },
  {
   "cell_type": "code",
   "execution_count": null,
   "metadata": {},
   "outputs": [],
   "source": []
  },
  {
   "cell_type": "code",
   "execution_count": null,
   "metadata": {},
   "outputs": [],
   "source": []
  },
  {
   "cell_type": "code",
   "execution_count": null,
   "metadata": {},
   "outputs": [],
   "source": []
  },
  {
   "cell_type": "code",
   "execution_count": null,
   "metadata": {},
   "outputs": [],
   "source": []
  },
  {
   "cell_type": "code",
   "execution_count": null,
   "metadata": {},
   "outputs": [],
   "source": []
  },
  {
   "cell_type": "code",
   "execution_count": null,
   "metadata": {},
   "outputs": [],
   "source": []
  },
  {
   "cell_type": "code",
   "execution_count": null,
   "metadata": {},
   "outputs": [],
   "source": []
  },
  {
   "cell_type": "code",
   "execution_count": null,
   "metadata": {},
   "outputs": [],
   "source": []
  },
  {
   "cell_type": "code",
   "execution_count": null,
   "metadata": {},
   "outputs": [],
   "source": []
  },
  {
   "cell_type": "code",
   "execution_count": null,
   "metadata": {},
   "outputs": [],
   "source": []
  },
  {
   "cell_type": "code",
   "execution_count": null,
   "metadata": {},
   "outputs": [],
   "source": []
  },
  {
   "cell_type": "code",
   "execution_count": null,
   "metadata": {},
   "outputs": [],
   "source": []
  },
  {
   "cell_type": "code",
   "execution_count": null,
   "metadata": {},
   "outputs": [],
   "source": []
  },
  {
   "cell_type": "code",
   "execution_count": null,
   "metadata": {},
   "outputs": [],
   "source": []
  },
  {
   "cell_type": "code",
   "execution_count": null,
   "metadata": {},
   "outputs": [],
   "source": []
  },
  {
   "cell_type": "code",
   "execution_count": null,
   "metadata": {},
   "outputs": [],
   "source": []
  },
  {
   "cell_type": "code",
   "execution_count": null,
   "metadata": {},
   "outputs": [],
   "source": []
  },
  {
   "cell_type": "code",
   "execution_count": null,
   "metadata": {},
   "outputs": [],
   "source": []
  },
  {
   "cell_type": "code",
   "execution_count": null,
   "metadata": {},
   "outputs": [],
   "source": []
  },
  {
   "cell_type": "code",
   "execution_count": null,
   "metadata": {},
   "outputs": [],
   "source": []
  },
  {
   "cell_type": "code",
   "execution_count": null,
   "metadata": {},
   "outputs": [],
   "source": []
  },
  {
   "cell_type": "code",
   "execution_count": null,
   "metadata": {},
   "outputs": [],
   "source": []
  },
  {
   "cell_type": "code",
   "execution_count": null,
   "metadata": {},
   "outputs": [],
   "source": []
  },
  {
   "cell_type": "code",
   "execution_count": null,
   "metadata": {},
   "outputs": [],
   "source": []
  },
  {
   "cell_type": "code",
   "execution_count": null,
   "metadata": {},
   "outputs": [],
   "source": []
  },
  {
   "cell_type": "code",
   "execution_count": null,
   "metadata": {},
   "outputs": [],
   "source": []
  },
  {
   "cell_type": "code",
   "execution_count": null,
   "metadata": {},
   "outputs": [],
   "source": []
  },
  {
   "cell_type": "code",
   "execution_count": null,
   "metadata": {},
   "outputs": [],
   "source": []
  },
  {
   "cell_type": "code",
   "execution_count": null,
   "metadata": {},
   "outputs": [],
   "source": []
  },
  {
   "cell_type": "code",
   "execution_count": null,
   "metadata": {},
   "outputs": [],
   "source": []
  },
  {
   "cell_type": "code",
   "execution_count": null,
   "metadata": {},
   "outputs": [],
   "source": []
  },
  {
   "cell_type": "code",
   "execution_count": null,
   "metadata": {},
   "outputs": [],
   "source": []
  },
  {
   "cell_type": "code",
   "execution_count": null,
   "metadata": {},
   "outputs": [],
   "source": []
  },
  {
   "cell_type": "code",
   "execution_count": null,
   "metadata": {},
   "outputs": [],
   "source": []
  },
  {
   "cell_type": "code",
   "execution_count": null,
   "metadata": {},
   "outputs": [],
   "source": []
  },
  {
   "cell_type": "code",
   "execution_count": null,
   "metadata": {},
   "outputs": [],
   "source": []
  },
  {
   "cell_type": "code",
   "execution_count": null,
   "metadata": {},
   "outputs": [],
   "source": []
  },
  {
   "cell_type": "code",
   "execution_count": null,
   "metadata": {},
   "outputs": [],
   "source": []
  },
  {
   "cell_type": "code",
   "execution_count": null,
   "metadata": {},
   "outputs": [],
   "source": []
  },
  {
   "cell_type": "code",
   "execution_count": null,
   "metadata": {},
   "outputs": [],
   "source": []
  },
  {
   "cell_type": "code",
   "execution_count": null,
   "metadata": {},
   "outputs": [],
   "source": []
  },
  {
   "cell_type": "code",
   "execution_count": null,
   "metadata": {},
   "outputs": [],
   "source": []
  },
  {
   "cell_type": "code",
   "execution_count": null,
   "metadata": {},
   "outputs": [],
   "source": []
  }
 ],
 "metadata": {
  "kernelspec": {
   "display_name": "SageMath 9.3",
   "language": "sage",
   "name": "sagemath"
  }
 },
 "nbformat": 4,
 "nbformat_minor": 4
}
